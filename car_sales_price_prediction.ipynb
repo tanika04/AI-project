{
  "nbformat": 4,
  "nbformat_minor": 0,
  "metadata": {
    "colab": {
      "private_outputs": true,
      "provenance": [],
      "collapsed_sections": [
        "w6K7xa23Elo4",
        "mDgbUHAGgjLW",
        "g-ATYxFrGrvw",
        "8yEUt7NnHlrM",
        "tEA2Xm5dHt1r",
        "I79__PHVH19G",
        "Ou-I18pAyIpj",
        "fF3858GYyt-u",
        "4_0_7-oCpUZd",
        "hwyV_J3ipUZe",
        "3yB-zSqbpUZe",
        "dEUvejAfpUZe",
        "Fd15vwWVpUZf",
        "49K5P_iCpZyH",
        "Nff-vKELpZyI",
        "kLW572S8pZyI",
        "dWbDXHzopZyI",
        "yLjJCtPM0KBk",
        "xiyOF9F70UgQ",
        "7wuGOrhz0itI",
        "id1riN9m0vUs",
        "578E2V7j08f6",
        "67NQN5KX2AMe",
        "Iwf50b-R2tYG",
        "GMQiZwjn3iu7",
        "WVIkgGqN3qsr",
        "XkPnILGE3zoT",
        "Hlsf0x5436Go",
        "mT9DMSJo4nBL",
        "c49ITxTc407N",
        "OeJFEK0N496M",
        "9ExmJH0g5HBk",
        "cJNqERVU536h",
        "k5UmGsbsOxih",
        "T0VqWOYE6DLQ",
        "qBMux9mC6MCf",
        "-oLEiFgy-5Pf",
        "C74aWNz2AliB",
        "2DejudWSA-a0",
        "pEMng2IbBLp7",
        "rAdphbQ9Bhjc",
        "TNVZ9zx19K6k",
        "nqoHp30x9hH9",
        "rMDnDkt2B6du",
        "yiiVWRdJDDil",
        "1UUpS68QDMuG",
        "kexQrXU-DjzY",
        "T5CmagL3EC8N",
        "BhH2vgX9EjGr",
        "qjKvONjwE8ra",
        "P1XJ9OREExlT",
        "VFOzZv6IFROw",
        "TIqpNgepFxVj",
        "VfCC591jGiD4",
        "OB4l2ZhMeS1U",
        "ArJBuiUVfxKd",
        "4qY1EAkEfxKe",
        "PiV4Ypx8fxKe",
        "TfvqoZmBfxKf",
        "dJ2tPlVmpsJ0",
        "JWYfwnehpsJ1",
        "-jK_YjpMpsJ2",
        "HAih1iBOpsJ2",
        "zVGeBEFhpsJ2",
        "bmKjuQ-FpsJ3",
        "Fze-IPXLpx6K",
        "7AN1z2sKpx6M",
        "9PIHJqyupx6M",
        "_-qAgymDpx6N",
        "Z-hykwinpx6N",
        "h_CCil-SKHpo",
        "cBFFvTBNJzUa",
        "HvGl1hHyA_VK",
        "EyNgTHvd2WFk",
        "KH5McJBi2d8v",
        "iW_Lq9qf2h6X",
        "-Kee-DAl2viO",
        "gCX9965dhzqZ",
        "gIfDvo9L0UH2"
      ]
    },
    "kernelspec": {
      "name": "python3",
      "display_name": "Python 3"
    },
    "language_info": {
      "name": "python"
    }
  },
  "cells": [
    {
      "cell_type": "markdown",
      "source": [
        "# **Project Name**    -\n",
        "\n"
      ],
      "metadata": {
        "id": "vncDsAP0Gaoa"
      }
    },
    {
      "cell_type": "markdown",
      "source": [
        "\n",
        "##### **Project Type**    - Regression\n",
        "##### **Contribution**    - Team\n",
        "##### **Team Member 2 -**Tamanna Kansal (2210992436)\n",
        "##### **Team Member 3 -**Tanika (2210992437)\n",
        "##### **Team Member 1 -**Swastik Tara (2210992433)\n",
        "##### **Team Member 4 -**Tanishq Singla (2210992438)"
      ],
      "metadata": {
        "id": "beRrZCGUAJYm"
      }
    },
    {
      "cell_type": "markdown",
      "source": [
        "# **Project Summary -**"
      ],
      "metadata": {
        "id": "FJNUwmbgGyua"
      }
    },
    {
      "cell_type": "markdown",
      "source": [
        "The \"Car Sales Price Prediction\" project aims to develop a machine learning model that predicts the sale price of cars based on various features. This falls under the domain of supervised learning and specifically regression. The dataset used for training and evaluation contains historical information about cars, including details such as model, year, mileage, brand, and other relevant features, along with their corresponding sale prices.\n",
        "\n",
        "Key Objectives:\n",
        "\n",
        "Data Collection: Gather a comprehensive dataset containing information on various car features and their associated sale prices.\n",
        "\n",
        "Exploratory Data Analysis (EDA): Conduct EDA to understand the characteristics of the dataset, identify patterns, and preprocess the data. This involves handling missing values, detecting outliers, and visualizing relationships between features.\n",
        "\n",
        "Data Preprocessing: Prepare the data for training by encoding categorical variables, scaling numerical features, and splitting the dataset into training and testing sets.\n",
        "\n",
        "Model Selection: Choose a regression algorithm suitable for the task. Common choices include linear regression, decision tree regression, or ensemble methods like random forests.\n",
        "\n",
        "Model Training: Train the selected model using the labeled training data, allowing the algorithm to learn the relationships between the input features and the target variable (car sales price).\n",
        "\n",
        "Model Evaluation: Evaluate the model's performance on a separate test dataset to assess its ability to generalize to new, unseen data. Metrics such as Mean Absolute Error (MAE) or Root Mean Squared Error (RMSE) may be used.\n",
        "\n",
        "Hyperparameter Tuning: Fine-tune the model's hyperparameters to optimize its performance and generalization ability.\n",
        "\n",
        "Prediction: Deploy the trained model to predict the sale prices of new cars based on their features.\n",
        "\n",
        "Documentation: Document the entire process, including data sources, methodology, model details, and results.\n",
        "\n",
        "\n",
        "The project aims to deliver a robust machine learning model capable of accurately predicting car sales prices. This predictive tool can be valuable for both buyers and sellers in the automotive market, providing insights into fair pricing based on various car attributes.\n"
      ],
      "metadata": {
        "id": "F6v_1wHtG2nS"
      }
    },
    {
      "cell_type": "markdown",
      "source": [
        "# **GitHub Link -**"
      ],
      "metadata": {
        "id": "w6K7xa23Elo4"
      }
    },
    {
      "cell_type": "markdown",
      "source": [
        "https://github.com/tanika04/AI-project.git"
      ],
      "metadata": {
        "id": "h1o69JH3Eqqn"
      }
    },
    {
      "cell_type": "markdown",
      "source": [
        "# **Problem Statement**\n"
      ],
      "metadata": {
        "id": "yQaldy8SH6Dl"
      }
    },
    {
      "cell_type": "markdown",
      "source": [
        "The automotive industry relies heavily on understanding market trends and consumer behavior to optimize sales strategies and pricing decisions. For both dealerships and private sellers, accurately pricing vehicles is essential for maximizing profits and minimizing time on the market. However, determining the optimal selling price for a vehicle can be challenging due to various factors such as market demand, vehicle condition, and geographic location.\n",
        "\n",
        "The project targets providing a valuable tool for both sellers and buyers a in making informed decisions and presents an opportunity to create a solution that can predict car sales prices with greater precision and contribute to a more transparent and efficient car-selling process."
      ],
      "metadata": {
        "id": "DpeJGUA3kjGy"
      }
    },
    {
      "cell_type": "markdown",
      "source": [
        "# **General Guidelines** : -  "
      ],
      "metadata": {
        "id": "mDgbUHAGgjLW"
      }
    },
    {
      "cell_type": "markdown",
      "source": [
        "1.   Well-structured, formatted, and commented code is required.\n",
        "2.   Exception Handling, Production Grade Code & Deployment Ready Code will be a plus. Those students will be awarded some additional credits.\n",
        "     \n",
        "     The additional credits will have advantages over other students during Star Student selection.\n",
        "       \n",
        "             [ Note: - Deployment Ready Code is defined as, the whole .ipynb notebook should be executable in one go\n",
        "                       without a single error logged. ]\n",
        "\n",
        "3.   Each and every logic should have proper comments.\n",
        "4. You may add as many number of charts you want. Make Sure for each and every chart the following format should be answered.\n",
        "        \n",
        "\n",
        "```\n",
        "# Chart visualization code\n",
        "```\n",
        "            \n",
        "\n",
        "*   Why did you pick the specific chart?\n",
        "*   What is/are the insight(s) found from the chart?\n",
        "* Will the gained insights help creating a positive business impact?\n",
        "Are there any insights that lead to negative growth? Justify with specific reason.\n",
        "\n",
        "5. You have to create at least 15 logical & meaningful charts having important insights.\n",
        "\n",
        "\n",
        "[ Hints : - Do the Vizualization in  a structured way while following \"UBM\" Rule.\n",
        "\n",
        "U - Univariate Analysis,\n",
        "\n",
        "B - Bivariate Analysis (Numerical - Categorical, Numerical - Numerical, Categorical - Categorical)\n",
        "\n",
        "M - Multivariate Analysis\n",
        " ]\n",
        "\n",
        "\n",
        "\n",
        "\n",
        "\n",
        "6. You may add more ml algorithms for model creation. Make sure for each and every algorithm, the following format should be answered.\n",
        "\n",
        "\n",
        "*   Explain the ML Model used and it's performance using Evaluation metric Score Chart.\n",
        "\n",
        "\n",
        "*   Cross- Validation & Hyperparameter Tuning\n",
        "\n",
        "*   Have you seen any improvement? Note down the improvement with updates Evaluation metric Score Chart.\n",
        "\n",
        "*   Explain each evaluation metric's indication towards business and the business impact pf the ML model used.\n",
        "\n",
        "\n",
        "\n",
        "\n",
        "\n",
        "\n",
        "\n",
        "\n",
        "\n",
        "\n",
        "\n",
        "\n",
        "\n",
        "\n",
        "\n",
        "\n",
        "\n",
        "\n"
      ],
      "metadata": {
        "id": "ZrxVaUj-hHfC"
      }
    },
    {
      "cell_type": "markdown",
      "source": [
        "# ***Let's Begin !***"
      ],
      "metadata": {
        "id": "O_i_v8NEhb9l"
      }
    },
    {
      "cell_type": "markdown",
      "source": [
        "## ***1. Know Your Data***"
      ],
      "metadata": {
        "id": "HhfV-JJviCcP"
      }
    },
    {
      "cell_type": "markdown",
      "source": [
        "### Import Libraries"
      ],
      "metadata": {
        "id": "Y3lxredqlCYt"
      }
    },
    {
      "cell_type": "code",
      "source": [
        "# Import Libraries\n",
        "\n",
        "##For data manipulation\n",
        "import pandas as pd # pandas for working with dataframes\n",
        "import numpy as np # numpy for numerical processing\n",
        "\n",
        "##For data visualization\n",
        "import matplotlib.pyplot as plt # matplotlib for plotting graphs\n",
        "import seaborn as sns # seaborn for statistical data visualization\n"
      ],
      "metadata": {
        "id": "M8Vqi-pPk-HR"
      },
      "execution_count": null,
      "outputs": []
    },
    {
      "cell_type": "markdown",
      "source": [
        "### Dataset Loading"
      ],
      "metadata": {
        "id": "3RnN4peoiCZX"
      }
    },
    {
      "cell_type": "code",
      "source": [
        "# Load Dataset\n",
        "\n",
        "df=pd.read_csv('/content/car_prices.csv') #df is  name of dataframe.\n",
        "#This uses the pandas library to load the CSV data into a pandas DataFrame.\n",
        "#The read_csv() function loads the data. We can pass the filepath 'car_prices.csv' to it to load from that file."
      ],
      "metadata": {
        "id": "4CkvbW_SlZ_R"
      },
      "execution_count": null,
      "outputs": []
    },
    {
      "cell_type": "markdown",
      "source": [
        "### Dataset First View"
      ],
      "metadata": {
        "id": "x71ZqKXriCWQ"
      }
    },
    {
      "cell_type": "code",
      "source": [
        "# Dataset First Look\n",
        "df.head()"
      ],
      "metadata": {
        "id": "LWNFOSvLl09H"
      },
      "execution_count": null,
      "outputs": []
    },
    {
      "cell_type": "code",
      "source": [
        "df.tail()"
      ],
      "metadata": {
        "id": "xV2OBOOMne-y"
      },
      "execution_count": null,
      "outputs": []
    },
    {
      "cell_type": "markdown",
      "source": [
        "### Dataset Rows & Columns count"
      ],
      "metadata": {
        "id": "7hBIi_osiCS2"
      }
    },
    {
      "cell_type": "code",
      "source": [
        "# Dataset Rows & Columns count\n",
        "print(\"Number of Rows and Columns: \",df.shape);"
      ],
      "metadata": {
        "id": "Kllu7SJgmLij"
      },
      "execution_count": null,
      "outputs": []
    },
    {
      "cell_type": "markdown",
      "source": [
        "### Dataset Information"
      ],
      "metadata": {
        "id": "JlHwYmJAmNHm"
      }
    },
    {
      "cell_type": "code",
      "source": [
        "# Dataset Info\n",
        "df.info();"
      ],
      "metadata": {
        "id": "e9hRXRi6meOf"
      },
      "execution_count": null,
      "outputs": []
    },
    {
      "cell_type": "markdown",
      "source": [
        "#### Duplicate Values"
      ],
      "metadata": {
        "id": "35m5QtbWiB9F"
      }
    },
    {
      "cell_type": "code",
      "source": [
        "# Dataset Duplicate Value Count\n",
        "duplicate_count = df.duplicated().sum()\n",
        "print(duplicate_count)"
      ],
      "metadata": {
        "id": "1sLdpKYkmox0"
      },
      "execution_count": null,
      "outputs": []
    },
    {
      "cell_type": "markdown",
      "source": [
        "#### Missing Values/Null Values"
      ],
      "metadata": {
        "id": "PoPl-ycgm1ru"
      }
    },
    {
      "cell_type": "code",
      "source": [
        "# Missing Values/Null Values Count\n",
        "null_values=df.isnull().sum()\n",
        "print(null_values)"
      ],
      "metadata": {
        "id": "GgHWkxvamxVg"
      },
      "execution_count": null,
      "outputs": []
    },
    {
      "cell_type": "code",
      "source": [
        "# Visualizing the missing values\n",
        "\n",
        "plt.figure(figsize = (20,7))\n",
        "sns.heatmap(df.isnull(), cbar=False)\n",
        "plt.show()\n",
        "#Visualizing missing values helps plan appropriate data preprocessing strategies like dropping columns with too many missing values or imputation methods to fill them in\n"
      ],
      "metadata": {
        "id": "3q5wnI3om9sJ"
      },
      "execution_count": null,
      "outputs": []
    },
    {
      "cell_type": "markdown",
      "source": [
        "### What did you know about your dataset?"
      ],
      "metadata": {
        "id": "H0kj-8xxnORC"
      }
    },
    {
      "cell_type": "markdown",
      "source": [
        "1.   In our dataset, there are 19938 rows and 16 columns.\n",
        "2.   It has no duplicate\n",
        "3.   It has no missing values.\n",
        "4.   There are 1 column of int64 datatype, 11 columns of object datatype and 4 columns of float64 datatype.\n",
        "5.   The heatmap gives a visual representation of the missing values across\n",
        "     all data points. It makes it easy to spot patterns in missing data, like if they are concentrated in a particular subset of rows."
      ],
      "metadata": {
        "id": "gfoNAAC-nUe_"
      }
    },
    {
      "cell_type": "markdown",
      "source": [
        "## ***2. Understanding Your Variables***"
      ],
      "metadata": {
        "id": "nA9Y7ga8ng1Z"
      }
    },
    {
      "cell_type": "code",
      "source": [
        "# Dataset Columns\n",
        "print(df.columns)"
      ],
      "metadata": {
        "id": "j7xfkqrt5Ag5"
      },
      "execution_count": null,
      "outputs": []
    },
    {
      "cell_type": "code",
      "source": [
        "# Dataset Describe\n",
        "df.describe()"
      ],
      "metadata": {
        "id": "DnOaZdaE5Q5t"
      },
      "execution_count": null,
      "outputs": []
    },
    {
      "cell_type": "markdown",
      "source": [
        "### Variables Description"
      ],
      "metadata": {
        "id": "PBTbrJXOngz2"
      }
    },
    {
      "cell_type": "markdown",
      "source": [
        "1.  **year**:\n",
        "\n",
        "\n",
        "> Represents the manufacturing year of the car.\n",
        "\n",
        "\n",
        "> data type: Numeric (integer) data type.\n",
        "\n",
        "\n",
        "\n",
        "\n",
        "2. **make**:\n",
        "\n",
        "\n",
        "> Indicates the manufacturer or brand of the car.\n",
        "\n",
        "> Data Type: String (object) data type.\n",
        "\n",
        "3. **model**:\n",
        "\n",
        "\n",
        "> Specifies the model name or number of the car.\n",
        ">Data Type: String (object) data type.\n",
        "\n",
        "4. **trim**:\n",
        "\n",
        "> Refers to the specific version or trim level of the car model.\n",
        "\n",
        "> data type: String (object) data type.\n",
        "\n",
        "5. **body**:\n",
        "\n",
        "> Describes the body type of the car (e.g., sedan, SUV, truck).\n",
        "\n",
        "> data type: String (object) data type.\n",
        "\n",
        "6. **transmission**:\n",
        "\n",
        ">Indicates the type of transmission the car has (e.g., automatic, manual).\n",
        "\n",
        "> data type: String (object) data type.\n",
        "\n",
        "7. **vin**:\n",
        "\n",
        "> Stands for Vehicle Identification Number, a unique code used to identify individual motor vehicles.\n",
        "\n",
        "> data type: String (object) data type.\n",
        "\n",
        "8. **state**:\n",
        "\n",
        "> Represents the state in which the car is located or registered.\n",
        "\n",
        "> data type: String (object) data type.\n",
        "\n",
        "9. **condition**:\n",
        "\n",
        "> Describes the overall condition of the car (e.g., new, used, excellent).\n",
        "\n",
        "> data type: Numeric (integer or float) data type.\n",
        "\n",
        "10. **odometer**:\n",
        "\n",
        "> Indicates the total distance traveled by the car, typically in miles or kilometers.\n",
        "\n",
        "> data type: Numeric (integer or float) data type.\n",
        "\n",
        "11. **color**:\n",
        "\n",
        "> Specifies the exterior color of the car.\n",
        "\n",
        "> data type: String (object) data type.\n",
        "\n",
        "12. **interior**:\n",
        "\n",
        "> Describes the interior color or features of the car.\n",
        "\n",
        "> data type: String (object) data type.\n",
        "\n",
        "13. **seller**:\n",
        "\n",
        "> Indicates the entity or individual selling the car.\n",
        "\n",
        "> data type: String (object) data type.\n",
        "\n",
        "14. **mmr**:\n",
        "\n",
        "> Possibly represents the Manheim Market Report, a pricing tool for used cars.\n",
        "\n",
        "> data type: Numeric (integer or float) data type.\n",
        "\n",
        "15. **sellingprice**:\n",
        "\n",
        "> Represents the sale price of the car.\n",
        "\n",
        "> data type: Numeric (integer or float) data type.\n",
        "\n",
        "16. **saledate**:\n",
        "\n",
        "> Indicates the date when the car was sold.\n",
        "\n",
        "> data type: Date or datetime data type.\n",
        "\n",
        "\n"
      ],
      "metadata": {
        "id": "aJV4KIxSnxay"
      }
    },
    {
      "cell_type": "markdown",
      "source": [
        "### Check Unique Values for each variable."
      ],
      "metadata": {
        "id": "u3PMJOP6ngxN"
      }
    },
    {
      "cell_type": "code",
      "source": [
        "# Check Unique Values for each variable.\n",
        "unique_values=df.nunique()\n",
        "print(unique_values)"
      ],
      "metadata": {
        "id": "zms12Yq5n-jE"
      },
      "execution_count": null,
      "outputs": []
    },
    {
      "cell_type": "markdown",
      "source": [
        "## 3. ***Data Wrangling***"
      ],
      "metadata": {
        "id": "dauF4eBmngu3"
      }
    },
    {
      "cell_type": "markdown",
      "source": [
        "### Data Wrangling Code"
      ],
      "metadata": {
        "id": "bKJF3rekwFvQ"
      }
    },
    {
      "cell_type": "code",
      "source": [
        "# Remove duplicate rows based on the VIN column\n",
        "df.drop_duplicates(subset='vin', inplace=True)\n",
        "\n",
        "# Print the number of rows in the DataFrame after removing duplicates\n",
        "print(df.shape)"
      ],
      "metadata": {
        "id": "yfuQdnexNoqe"
      },
      "execution_count": null,
      "outputs": []
    },
    {
      "cell_type": "code",
      "source": [
        "# Check for missing values in each column\n",
        "missing_values = df.isnull().sum()\n",
        "\n",
        "# Print the number of missing values in each column\n",
        "print(missing_values)"
      ],
      "metadata": {
        "id": "gED3rOEON_Ar"
      },
      "execution_count": null,
      "outputs": []
    },
    {
      "cell_type": "code",
      "source": [
        "# Impute missing values in the 'year' column with the median\n",
        "df['year'].fillna(df['year'].median(), inplace=True)"
      ],
      "metadata": {
        "id": "Rn7HtpITOeG2"
      },
      "execution_count": null,
      "outputs": []
    },
    {
      "cell_type": "code",
      "source": [
        "# Impute missing values in the 'make' column with new category\n",
        "df['make'].fillna('Unknown', inplace=True)"
      ],
      "metadata": {
        "id": "r84szmlUO4FG"
      },
      "execution_count": null,
      "outputs": []
    },
    {
      "cell_type": "code",
      "source": [
        "# Impute missing values in the 'model' column with the most frequent category:\n",
        "\n",
        "df['model'].fillna(df['model'].mode()[0], inplace=True)"
      ],
      "metadata": {
        "id": "vLLFlhulPdSB"
      },
      "execution_count": null,
      "outputs": []
    },
    {
      "cell_type": "code",
      "source": [
        "# Impute missing values in the 'trim' column with the most frequent category:\n",
        "\n",
        "df['trim'].fillna(df['trim'].mode()[0], inplace=True)"
      ],
      "metadata": {
        "id": "BvkcXbEhQ7IO"
      },
      "execution_count": null,
      "outputs": []
    },
    {
      "cell_type": "code",
      "source": [
        "# Impute missing values in the 'body' column with the most frequent category:\n",
        "df['body'].fillna(df['body'].mode()[0], inplace=True)"
      ],
      "metadata": {
        "id": "1_fIyKeiRYfG"
      },
      "execution_count": null,
      "outputs": []
    },
    {
      "cell_type": "code",
      "source": [
        "# Impute missing values in the 'transmission' colujmn with the most frequent category:\n",
        "\n",
        "df['transmission'].fillna(df['transmission'].mode()[0], inplace=True)"
      ],
      "metadata": {
        "id": "db53VyjUSJS7"
      },
      "execution_count": null,
      "outputs": []
    },
    {
      "cell_type": "code",
      "source": [
        "# Impute missing values in the 'condition' column with the mean:\n",
        "\n",
        "df['condition'].fillna(df['condition'].mean(), inplace=True)"
      ],
      "metadata": {
        "id": "i2d6BnK5TX1O"
      },
      "execution_count": null,
      "outputs": []
    },
    {
      "cell_type": "code",
      "source": [
        "# Impute missing values in the 'odometer' column with the median\n",
        "df['odometer'].fillna(df['odometer'].median(), inplace=True)"
      ],
      "metadata": {
        "id": "LXnuI7s2T_Oi"
      },
      "execution_count": null,
      "outputs": []
    },
    {
      "cell_type": "code",
      "source": [
        "# Impute missing values in the 'interior' column with the most frequent category:\n",
        "\n",
        "df['interior'].fillna(df['interior'].mode()[0], inplace=True)"
      ],
      "metadata": {
        "id": "Q0w0EGQWTu-q"
      },
      "execution_count": null,
      "outputs": []
    },
    {
      "cell_type": "code",
      "source": [
        "#  Basic Aggregations\n",
        "#1. Total sales revenue for each state\n",
        "total_revenue_by_state = df.groupby('state')['sellingprice'].sum()\n",
        "print(\"Total sales revenue by state:\")\n",
        "print(total_revenue_by_state)"
      ],
      "metadata": {
        "id": "MsQLtLW18zk2"
      },
      "execution_count": null,
      "outputs": []
    },
    {
      "cell_type": "code",
      "source": [
        "# Multi-Level GroupBy\n",
        "# 2.Average sales volume by make and year\n",
        "average_sales_by_make_year = df.groupby(['make', 'year'])['sellingprice'].mean()\n",
        "print(\"\\nAverage sales price by make and year:\")\n",
        "print(average_sales_by_make_year)"
      ],
      "metadata": {
        "id": "djmVR4ZY82IC"
      },
      "execution_count": null,
      "outputs": []
    },
    {
      "cell_type": "code",
      "source": [
        "# Conditional Aggregations\n",
        "#3. Grouping by 'Model' and calculating total sales for each model\n",
        "total_sales_by_model = df.groupby('model')['saledate'].sum()\n",
        "print(\"Total sales by model:\\n\", total_sales_by_model)"
      ],
      "metadata": {
        "id": "JLl5mLRx86eQ"
      },
      "execution_count": null,
      "outputs": []
    },
    {
      "cell_type": "code",
      "source": [
        "#4.find count of different color of vehicles in each year\n",
        "find=df.groupby('year')['color'].value_counts()\n",
        "print(find)"
      ],
      "metadata": {
        "id": "ilu58ZGY89It"
      },
      "execution_count": null,
      "outputs": []
    },
    {
      "cell_type": "code",
      "source": [
        "#5. count of occurrences for each combination of 'model' and 'interior'.\n",
        "models=df.groupby('model')['interior'].value_counts()\n",
        "print(models)"
      ],
      "metadata": {
        "id": "-JXlzpo-9AEy"
      },
      "execution_count": null,
      "outputs": []
    },
    {
      "cell_type": "code",
      "source": [
        "#6. will display the count of occurrences for each transmission type.\n",
        "transmission_counts = df.groupby('transmission').size()\n",
        "# Print the counts of occurrences for each transmission type\n",
        "print(transmission_counts)"
      ],
      "metadata": {
        "id": "FjMTH7vr9DKO"
      },
      "execution_count": null,
      "outputs": []
    },
    {
      "cell_type": "code",
      "source": [
        "#7. Group by 'year' column and find the maximum selling price for each year\n",
        "max_selling_price_by_year = df.groupby('year')['sellingprice'].max()\n",
        "\n",
        "# Print the maximum selling price for each year\n",
        "print(max_selling_price_by_year)"
      ],
      "metadata": {
        "id": "C3EtW73E-mjU"
      },
      "execution_count": null,
      "outputs": []
    },
    {
      "cell_type": "code",
      "source": [
        "#8. calculate the average selling price for each combination of vehicle make and model?\n",
        "average_price_by_make_model = df.groupby(['make', 'model'])['sellingprice'].mean()\n",
        "\n",
        "# Print the average selling price for each combination of make and model\n",
        "print(average_price_by_make_model)"
      ],
      "metadata": {
        "id": "o_D89d44AWxi"
      },
      "execution_count": null,
      "outputs": []
    },
    {
      "cell_type": "code",
      "source": [
        "#9.calculate the average selling price for each body type.\n",
        "average_price_by_body = df.groupby('body')['sellingprice'].mean()\n",
        "print(average_price_by_body)"
      ],
      "metadata": {
        "id": "RykfZrIaDdTj"
      },
      "execution_count": null,
      "outputs": []
    },
    {
      "cell_type": "code",
      "source": [
        "#10. count the number of sales for each body type.\n",
        "sales_count_by_body = df.groupby('body').size()\n",
        "print(sales_count_by_body )"
      ],
      "metadata": {
        "id": "GqpLra28DhW2"
      },
      "execution_count": null,
      "outputs": []
    },
    {
      "cell_type": "code",
      "source": [
        "#11. find the maximum odometer reading for each body type.\n",
        "max_odometer_by_body = df.groupby('body')['odometer'].max()\n",
        "print(max_odometer_by_body)"
      ],
      "metadata": {
        "id": "0w6VScGuDnzo"
      },
      "execution_count": null,
      "outputs": []
    },
    {
      "cell_type": "markdown",
      "source": [
        "### What all manipulations have you done and insights you found?"
      ],
      "metadata": {
        "id": "MSa1f5Uengrz"
      }
    },
    {
      "cell_type": "markdown",
      "source": [
        "**Data Manipulation**:Imputed missing values in each column using appropriate strategies:\n",
        "\n",
        "year: imputed with the median year.\n",
        "\n",
        "make: imputed with the new catagory.\n",
        "\n",
        "model: imputed with the most frequent model for popular car models.\n",
        "\n",
        "trim: imputed with the most frequent trim level for popular car models.\n",
        "\n",
        "body: imputed with the most frequent body type for popular car models and a similar car body type for other models.\n",
        "\n",
        "transmission: imputed with the most frequent transmission type for popular car models.\n",
        "\n",
        "condition: imputed with the mean condition for cars with high selling prices and a similar car condition for other cars.\n",
        "\n",
        "odometer: imputed with the median odometer reading.\n",
        "\n",
        "interior: imputed with the most frequent catagory.\n",
        "\n",
        "**Insights:**\n",
        "\n",
        "* Trends in car prices over the years.\n",
        "\n",
        "* Price variations across different car makes and models.\n",
        "\n",
        "* Influence of trim levels and body types on prices.\n",
        "\n",
        "* Impact of transmission types on pricing trends.\n",
        "\n",
        "* Preferences for car color and interior features and their effect on prices.\n",
        "\n",
        "* Accuracy of pricing predictions compared to market values.\n",
        "\n"
      ],
      "metadata": {
        "id": "LbyXE7I1olp8"
      }
    },
    {
      "cell_type": "markdown",
      "source": [
        "## ***4. Data Vizualization, Storytelling & Experimenting with charts : Understand the relationships between variables***"
      ],
      "metadata": {
        "id": "GF8Ens_Soomf"
      }
    },
    {
      "cell_type": "markdown",
      "source": [
        "#### Chart - 1"
      ],
      "metadata": {
        "id": "0wOQAZs5pc--"
      }
    },
    {
      "cell_type": "code",
      "source": [
        "# Chart - 1 visualization code\n",
        "\n",
        "# Plot the distribution of vehicle colors\n",
        "plt.figure(figsize=(10, 6))\n",
        "color_counts = df['color'].value_counts()\n",
        "color_counts.plot(kind='bar', color=['black', 'blue', 'grey', 'silver' ,'blue','red' ,'black','gold','green' , 'red','beige','brown','orange','purple','blue','yellow','grey','turquoise','red','orange'])\n",
        "plt.title('Distribution of Vehicle Colors')\n",
        "plt.xlabel('Color')\n",
        "plt.ylabel('Count')\n",
        "plt.xticks(rotation=45)\n",
        "plt.show()"
      ],
      "metadata": {
        "id": "7v_ESjsspbW7"
      },
      "execution_count": null,
      "outputs": []
    },
    {
      "cell_type": "markdown",
      "source": [
        "##### 1. Why did you pick the specific chart?"
      ],
      "metadata": {
        "id": "K5QZ13OEpz2H"
      }
    },
    {
      "cell_type": "markdown",
      "source": [
        "A countplot is chosen for its effectiveness in visually representing the distribution of car colors, offering a clear and concise overview of categorical data.Its simplicity facilitates quick insights, making it an ideal choice for integration with AIML in a vehicle price prediction project."
      ],
      "metadata": {
        "id": "vsx4u3tZ9_3b"
      }
    },
    {
      "cell_type": "markdown",
      "source": [
        "##### 2. What is/are the insight(s) found from the chart?"
      ],
      "metadata": {
        "id": "lQ7QKXXCp7Bj"
      }
    },
    {
      "cell_type": "markdown",
      "source": [
        "\n",
        "The chart uses red color to represent vehicle colors, but insights into the actual color distribution require considering the original data. Analysis of bar heights suggests common trends in preferred vehicle colors, providing initial insights into color popularity within the dataset."
      ],
      "metadata": {
        "id": "C_j1G7yiqdRP"
      }
    },
    {
      "cell_type": "markdown",
      "source": [
        "##### 3. Will the gained insights help creating a positive business impact?\n",
        "Are there any insights that lead to negative growth? Justify with specific reason."
      ],
      "metadata": {
        "id": "448CDAPjqfQr"
      }
    },
    {
      "cell_type": "markdown",
      "source": [
        "Positive Impact:\n",
        "Insights on popular vehicle colors can inform effective marketing strategies, potentially boosting customer satisfaction and sales.\n",
        "\n",
        "Negative Growth:\n",
        "Limited color diversity in the dataset may hinder customization options, leading to negative growth as customers seeking variety may be deterred, impacting market competitiveness and overall sales."
      ],
      "metadata": {
        "id": "3cspy4FjqxJW"
      }
    },
    {
      "cell_type": "markdown",
      "source": [
        "#### Chart - 2"
      ],
      "metadata": {
        "id": "KSlN3yHqYklG"
      }
    },
    {
      "cell_type": "code",
      "source": [
        "# Chart - 2 visualization code\n",
        "\n",
        "# Plot the distribution of selling prices\n",
        "plt.figure(figsize=(10, 6))\n",
        "plt.hist(df['sellingprice'], bins=30, color='skyblue', edgecolor='black')\n",
        "plt.title('Distribution of Selling Prices')\n",
        "plt.xlabel('Selling Price')\n",
        "plt.ylabel('Frequency')\n",
        "plt.grid(True)\n",
        "plt.show()"
      ],
      "metadata": {
        "id": "R4YgtaqtYklH"
      },
      "execution_count": null,
      "outputs": []
    },
    {
      "cell_type": "markdown",
      "source": [
        "##### 1. Why did you pick the specific chart?"
      ],
      "metadata": {
        "id": "t6dVpIINYklI"
      }
    },
    {
      "cell_type": "markdown",
      "source": [
        "The histogram is chosen to depict the distribution of selling prices due to its ability to illustrate the range and frequency of prices, providing insights into common price bands. This visualization is essential for understanding the overall distribution and informing pricing strategies in the vehicle sales project."
      ],
      "metadata": {
        "id": "5aaW0BYyYklI"
      }
    },
    {
      "cell_type": "markdown",
      "source": [
        "##### 2. What is/are the insight(s) found from the chart?"
      ],
      "metadata": {
        "id": "ijmpgYnKYklI"
      }
    },
    {
      "cell_type": "markdown",
      "source": [
        "Price Range Distribution: The histogram illustrates the spread of selling prices, revealing the range of prices and their respective frequencies within the dataset.\n",
        "\n",
        "Common Price Bands: Peaks or clusters in the histogram indicate prevalent selling price ranges, offering insights into the most frequent pricing segments in the dataset."
      ],
      "metadata": {
        "id": "PSx9atu2YklI"
      }
    },
    {
      "cell_type": "markdown",
      "source": [
        "##### 3. Will the gained insights help creating a positive business impact?\n",
        "Are there any insights that lead to negative growth? Justify with specific reason."
      ],
      "metadata": {
        "id": "-JiQyfWJYklI"
      }
    },
    {
      "cell_type": "markdown",
      "source": [
        "Positive Impact:\n",
        "Insights into selling price distribution inform effective pricing strategies, potentially attracting more customers and maximizing revenue.\n",
        "\n",
        "Negative Growth:\n",
        "Skewed or limited selling price diversity may deter customers, leading to negative growth by reducing sales and limiting market appeal. A balanced and competitive pricing approach is crucial for sustained positive impact."
      ],
      "metadata": {
        "id": "BcBbebzrYklV"
      }
    },
    {
      "cell_type": "markdown",
      "source": [
        "#### Chart - 3"
      ],
      "metadata": {
        "id": "EM7whBJCYoAo"
      }
    },
    {
      "cell_type": "code",
      "source": [
        "# Chart - 3 visualization code\n",
        "#create a box plot or to visualize the distribution of selling prices for each body type.\n",
        "\n",
        "import seaborn as sns\n",
        "plt.xlabel('body')\n",
        "plt.ylabel('sellingprice')\n",
        "sns.boxplot(data=df)"
      ],
      "metadata": {
        "id": "t6GMdE67YoAp"
      },
      "execution_count": null,
      "outputs": []
    },
    {
      "cell_type": "markdown",
      "source": [
        "##### 1. Why did you pick the specific chart?"
      ],
      "metadata": {
        "id": "fge-S5ZAYoAp"
      }
    },
    {
      "cell_type": "markdown",
      "source": [
        "The boxplot is chosen to compare selling prices across different body types because it effectively displays the central tendency, spread, and potential outliers within each category. This visualization provides a clear and concise way to understand the distribution of selling prices based on body types, aiding in identifying patterns and making informed decisions in your vehicle sales analysis."
      ],
      "metadata": {
        "id": "5dBItgRVYoAp"
      }
    },
    {
      "cell_type": "markdown",
      "source": [
        "##### 2. What is/are the insight(s) found from the chart?"
      ],
      "metadata": {
        "id": "85gYPyotYoAp"
      }
    },
    {
      "cell_type": "markdown",
      "source": [
        "The boxplot provides the following insights:\n",
        "\n",
        "Price Variation by Body Type: Variability in the box lengths and positions indicates differing price distributions among various body types.\n",
        "\n",
        "Outliers: Points beyond the \"whiskers\" suggest potential outliers in selling prices for specific body types, highlighting exceptional cases that may require further investigation.\n",
        "\n",
        "Market Preferences: Uniform box lengths within body types indicate consistency in selling prices, offering insights into market preferences and enabling more targeted pricing strategies for each vehicle category."
      ],
      "metadata": {
        "id": "4jstXR6OYoAp"
      }
    },
    {
      "cell_type": "markdown",
      "source": [
        "##### 3. Will the gained insights help creating a positive business impact?\n",
        "Are there any insights that lead to negative growth? Justify with specific reason."
      ],
      "metadata": {
        "id": "RoGjAbkUYoAp"
      }
    },
    {
      "cell_type": "markdown",
      "source": [
        "The insights gained from the boxplot, such as understanding price variation by body type, can positively impact business by informing targeted pricing strategies. Tailoring prices based on body types to align with customer preferences can enhance market appeal, potentially leading to increased sales and positive business impact.\n",
        "However, if the boxplot reveals extreme outliers or significant pricing disparities among body types, it may lead to negative growth. Excessive pricing variations can create customer dissatisfaction, impacting overall sales and market competitiveness"
      ],
      "metadata": {
        "id": "zfJ8IqMcYoAp"
      }
    },
    {
      "cell_type": "markdown",
      "source": [
        "#### Chart - 4"
      ],
      "metadata": {
        "id": "4Of9eVA-YrdM"
      }
    },
    {
      "cell_type": "code",
      "source": [
        "# Chart - 4 visualization code\n",
        "#Create a scatter plot to examine the relationship between vehicle prices and odometer readings.\n",
        "#This helps identify any patterns or correlations between price and mileage.\n",
        "plt.figure(figsize=(10, 6))\n",
        "sns.scatterplot(data=df, x='odometer', y='sellingprice', color='green')\n",
        "plt.title('Vehicle Prices vs. Odometer Readings')\n",
        "plt.xlabel('Odometer Reading')\n",
        "plt.ylabel('Selling Price ($)')\n",
        "plt.show()\n"
      ],
      "metadata": {
        "id": "irlUoxc8YrdO"
      },
      "execution_count": null,
      "outputs": []
    },
    {
      "cell_type": "markdown",
      "source": [
        "##### 1. Why did you pick the specific chart?\n",
        "The scatterplot is chosen to visualize the relationship between vehicle prices and odometer readings due to its effectiveness in highlighting potential patterns or correlations. By representing each data point, this chart provides a clear overview of how odometer readings may influence selling prices, aiding in the identification of trends and outliers for more informed decision-making in your vehicle sales analysis."
      ],
      "metadata": {
        "id": "iky9q4vBYrdO"
      }
    },
    {
      "cell_type": "markdown",
      "source": [
        "##### 2. What is/are the insight(s) found from the chart?"
      ],
      "metadata": {
        "id": "F6T5p64dYrdO"
      }
    },
    {
      "cell_type": "markdown",
      "source": [
        "The scatterplot provides the following insights:\n",
        "\n",
        "Price and Odometer Relationship: Examining the scatterplot reveals the nature of the relationship between vehicle prices and odometer readings. This helps identify whether there is a correlation, trend, or any potential patterns.\n",
        "\n",
        "Outliers: Outlying points on the scatterplot may indicate exceptional cases where the selling price does not align with typical expectations based on odometer readings, suggesting the presence of influential factors beyond mileage."
      ],
      "metadata": {
        "id": "Xx8WAJvtYrdO"
      }
    },
    {
      "cell_type": "markdown",
      "source": [
        "##### 3. Will the gained insights help creating a positive business impact?\n",
        "Are there any insights that lead to negative growth? Justify with specific reason."
      ],
      "metadata": {
        "id": "y-Ehk30pYrdP"
      }
    },
    {
      "cell_type": "markdown",
      "source": [
        "Insights gained from the scatterplot can positively impact business by helping to identify trends and correlations between odometer readings and selling prices. This information enables more precise pricing strategies, potentially increasing customer satisfaction and sales, thus contributing to positive business impact.\n",
        "\n",
        "However, if the scatterplot reveals no clear relationship between odometer readings and selling prices, it may hinder growth"
      ],
      "metadata": {
        "id": "jLNxxz7MYrdP"
      }
    },
    {
      "cell_type": "markdown",
      "source": [
        "#### Chart - 5"
      ],
      "metadata": {
        "id": "bamQiAODYuh1"
      }
    },
    {
      "cell_type": "code",
      "source": [
        "# Chart - 5 visualization code\n",
        "#Create a KDE plot to estimate the probability density function of vehicle prices.\n",
        "plt.figure(figsize=(10, 6))\n",
        "sns.kdeplot(data=df, x='sellingprice', color='skyblue', fill=True)\n",
        "plt.title('Kernel Density Estimation of Vehicle Prices')\n",
        "plt.xlabel('Selling Price ($)')\n",
        "plt.ylabel('Density')\n",
        "#plt.grid(True)\n",
        "plt.show()"
      ],
      "metadata": {
        "id": "TIJwrbroYuh3"
      },
      "execution_count": null,
      "outputs": []
    },
    {
      "cell_type": "markdown",
      "source": [
        "##### 1. Why did you pick the specific chart?"
      ],
      "metadata": {
        "id": "QHF8YVU7Yuh3"
      }
    },
    {
      "cell_type": "markdown",
      "source": [
        "The KDE plot is chosen for its ability to offer a smooth and informative representation of the probability density of vehicle prices, aiding in a nuanced understanding of the overall distribution characteristics in a concise manner"
      ],
      "metadata": {
        "id": "dcxuIMRPYuh3"
      }
    },
    {
      "cell_type": "markdown",
      "source": [
        "##### 2. What is/are the insight(s) found from the chart?"
      ],
      "metadata": {
        "id": "GwzvFGzlYuh3"
      }
    },
    {
      "cell_type": "markdown",
      "source": [
        "Probability Density: The KDE plot visually represents the probability density of vehicle prices, showing where prices are more concentrated or sparse in the dataset.\n",
        "\n",
        "Distribution Shape: The smooth curve reveals the overall shape of the selling price distribution, indicating whether prices are skewed, symmetric, or exhibit multiple peaks.\n",
        "\n",
        "Common Price Ranges: Concentrations in the curve highlight common price ranges, providing insights into the most frequent selling prices within the dataset."
      ],
      "metadata": {
        "id": "uyqkiB8YYuh3"
      }
    },
    {
      "cell_type": "markdown",
      "source": [
        "##### 3. Will the gained insights help creating a positive business impact?\n",
        "Are there any insights that lead to negative growth? Justify with specific reason."
      ],
      "metadata": {
        "id": "qYpmQ266Yuh3"
      }
    },
    {
      "cell_type": "markdown",
      "source": [
        "Yes, the KDE plot insights aid in setting precise and competitive prices, potentially enhancing customer satisfaction and positively impacting sales for a beneficial business outcome.\n",
        "\n",
        "No, the KDE plot itself does not inherently lead to negative growth. However, if the insights from the plot reveal extreme price concentration or erratic distribution patterns, inconsistent pricing strategies may emerge."
      ],
      "metadata": {
        "id": "_WtzZ_hCYuh4"
      }
    },
    {
      "cell_type": "markdown",
      "source": [
        "#### Chart - 6"
      ],
      "metadata": {
        "id": "OH-pJp9IphqM"
      }
    },
    {
      "cell_type": "code",
      "source": [
        "# Chart - 6 visualization code\n",
        "# create a pie chart showing the distribution of vehicle transmissions in the dataset\n",
        "# Count occurrences of each transmission type\n",
        "transmission_counts = df['transmission'].value_counts()\n",
        "\n",
        "# Plot the pie chart\n",
        "plt.figure(figsize=(4,5))\n",
        "plt.pie(transmission_counts, labels=transmission_counts.index, autopct='%1.1f%%', startangle=140,colors=['red','yellow'])\n",
        "plt.title('Distribution of Vehicle Transmissions')\n",
        "plt.axis('equal')  # Equal aspect ratio ensures that pie is drawn as a circle.\n",
        "plt.show()"
      ],
      "metadata": {
        "id": "kuRf4wtuphqN"
      },
      "execution_count": null,
      "outputs": []
    },
    {
      "cell_type": "markdown",
      "source": [
        "##### 1. Why did you pick the specific chart?"
      ],
      "metadata": {
        "id": "bbFf2-_FphqN"
      }
    },
    {
      "cell_type": "markdown",
      "source": [
        "The pie chart is chosen to visualize the distribution of vehicle counts by transmission type because it provides a clear, intuitive representation of the proportion of each category. This chart is effective for showcasing the relative frequencies of different transmission types in the dataset, allowing for a quick and easy-to-understand overview."
      ],
      "metadata": {
        "id": "loh7H2nzphqN"
      }
    },
    {
      "cell_type": "markdown",
      "source": [
        "##### 2. What is/are the insight(s) found from the chart?"
      ],
      "metadata": {
        "id": "_ouA3fa0phqN"
      }
    },
    {
      "cell_type": "markdown",
      "source": [
        "Proportion of Transmission Types: The chart shows the relative proportions of different transmission types (e.g., automatic and manual) in the dataset, providing an at-a-glance understanding of their distribution.\n",
        "\n",
        "Prevalence of Transmission Types: The larger the slice of a specific color, the more prevalent that transmission type is in the dataset. This helps in identifying the dominant transmission types among the vehicles.\n",
        "\n",
        "Visual Comparison: The visual comparison of pie slices allows for easy identification of the distribution pattern, making it straightforward to observe any significant imbalances or trends in transmission types."
      ],
      "metadata": {
        "id": "VECbqPI7phqN"
      }
    },
    {
      "cell_type": "markdown",
      "source": [
        "##### 3. Will the gained insights help creating a positive business impact?\n",
        "Are there any insights that lead to negative growth? Justify with specific reason."
      ],
      "metadata": {
        "id": "Seke61FWphqN"
      }
    },
    {
      "cell_type": "markdown",
      "source": [
        "The insights gained from the distribution of vehicle counts by transmission type can potentially contribute to a positive business impact. Understanding the prevalence and proportion of different transmission types in the dataset allows businesses to tailor their marketing strategies, inventory management, and customer offerings to align with customer preferences\n",
        "\n",
        "Misinterpreting or neglecting insights related to pricing, market trends, marketing strategies, customer preferences, or temporal patterns may lead to incorrect business decisions, negatively impacting sales and overall growth. The key lies in strategic and informed responses to insights to avoid adverse consequences."
      ],
      "metadata": {
        "id": "DW4_bGpfphqN"
      }
    },
    {
      "cell_type": "markdown",
      "source": [
        "#### Chart - 7"
      ],
      "metadata": {
        "id": "PIIx-8_IphqN"
      }
    },
    {
      "cell_type": "code",
      "source": [
        "# Chart - 7 visualization code\n",
        "#create a violin plot to visualize the distribution of selling prices for each body type.\n",
        "v=sns.violinplot(data=df)\n",
        "v.set_xlabel('body')\n",
        "v.set_ylabel('sellingprice')\n"
      ],
      "metadata": {
        "id": "lqAIGUfyphqO"
      },
      "execution_count": null,
      "outputs": []
    },
    {
      "cell_type": "markdown",
      "source": [
        "##### 1. Why did you pick the specific chart?"
      ],
      "metadata": {
        "id": "t27r6nlMphqO"
      }
    },
    {
      "cell_type": "markdown",
      "source": [
        "The violin plot is chosen to illustrate the distribution of selling prices across various body types due to its comprehensive visualization capabilities. By combining box plots and kernel density estimation, it provides a nuanced representation of the data, offering insights into the central tendency, spread, and probability density of prices."
      ],
      "metadata": {
        "id": "iv6ro40sphqO"
      }
    },
    {
      "cell_type": "markdown",
      "source": [
        "##### 2. What is/are the insight(s) found from the chart?"
      ],
      "metadata": {
        "id": "r2jJGEOYphqO"
      }
    },
    {
      "cell_type": "markdown",
      "source": [
        "The violin plot highlights diverse selling price distributions among different body types, depicting\n",
        "\n",
        "Variability: Width of violins shows diversity in selling prices across body types.\n",
        "Probability Density: Height indicates likelihood of prices within specific ranges for each category.\n",
        "Comparative Analysis: Allows quick assessment of price differences among body types, guiding pricing strategies."
      ],
      "metadata": {
        "id": "Po6ZPi4hphqO"
      }
    },
    {
      "cell_type": "markdown",
      "source": [
        "##### 3. Will the gained insights help creating a positive business impact?\n",
        "Are there any insights that lead to negative growth? Justify with specific reason."
      ],
      "metadata": {
        "id": "b0JNsNcRphqO"
      }
    },
    {
      "cell_type": "markdown",
      "source": [
        "Insights from the violin plot can positively impact business by informing precise pricing strategies, potentially increasing customer satisfaction and sales through a nuanced understanding of price distributio\n",
        "\n",
        "If the plot indicates extreme variability or inconsistent probability density in selling prices, it may lead to negative growth."
      ],
      "metadata": {
        "id": "xvSq8iUTphqO"
      }
    },
    {
      "cell_type": "markdown",
      "source": [
        "#### Chart - 8"
      ],
      "metadata": {
        "id": "BZR9WyysphqO"
      }
    },
    {
      "cell_type": "code",
      "source": [
        "# Chart - 8 visualization code\n",
        "#Plot the selling prices over time with a trendline to visualize the overall trend.\n",
        "plt.figure(figsize=(50, 20))\n",
        "sns.lineplot(data=df, x='saledate', y='sellingprice', estimator='mean', color='skyblue',marker='o')\n",
        "plt.title('Selling Prices Over Time with Trendline')\n",
        "plt.xlabel('Date')\n",
        "plt.ylabel('Selling Price ($)')\n",
        "plt.show()"
      ],
      "metadata": {
        "id": "TdPTWpAVphqO"
      },
      "execution_count": null,
      "outputs": []
    },
    {
      "cell_type": "markdown",
      "source": [
        "##### 1. Why did you pick the specific chart?"
      ],
      "metadata": {
        "id": "jj7wYXLtphqO"
      }
    },
    {
      "cell_type": "markdown",
      "source": [
        "The selected line plot with a trendline and mean estimation is optimal for visually capturing selling price trends over time. Its large figure size, use of markers, and focus on the mean provide clarity in understanding the temporal evolution of selling prices."
      ],
      "metadata": {
        "id": "Ob8u6rCTphqO"
      }
    },
    {
      "cell_type": "markdown",
      "source": [
        "##### 2. What is/are the insight(s) found from the chart?"
      ],
      "metadata": {
        "id": "eZrbJ2SmphqO"
      }
    },
    {
      "cell_type": "markdown",
      "source": [
        "Overall Trend: The chart helps identify whether there is a consistent upward, downward, or stable trend in selling prices over the observed period.\n",
        "\n",
        "Seasonal Patterns: Patterns or fluctuations in selling prices across different time intervals may indicate seasonal influences or periodic market dynamics.\n",
        "\n",
        "Outliers or Anomalies: Any significant deviations from the trendline could signify outliers or unique events affecting selling prices on specific dates."
      ],
      "metadata": {
        "id": "mZtgC_hjphqO"
      }
    },
    {
      "cell_type": "markdown",
      "source": [
        "##### 3. Will the gained insights help creating a positive business impact?\n",
        "Are there any insights that lead to negative growth? Justify with specific reason."
      ],
      "metadata": {
        "id": "rFu4xreNphqO"
      }
    },
    {
      "cell_type": "markdown",
      "source": [
        "Positive Impact:\n",
        "Line plots help identify pricing trends, analyze seasonal variations, and conduct competitive analysis, enabling informed pricing strategies.\n",
        "\n",
        "Negative Growth Potential:\n",
        "Failure to adapt pricing strategies to trends or seasonal changes may lead to decreased sales and loss of market share."
      ],
      "metadata": {
        "id": "ey_0qi68phqO"
      }
    },
    {
      "cell_type": "markdown",
      "source": [
        "#### Chart - 9"
      ],
      "metadata": {
        "id": "YJ55k-q6phqO"
      }
    },
    {
      "cell_type": "code",
      "source": [
        "# Chart - 9 visualization code\n",
        "\n",
        "# Group by 'condition' and calculate the average selling price\n",
        "avg_price_by_condition = df.groupby('condition')['sellingprice'].mean().sort_values(ascending=False)\n",
        "\n",
        "# Plot the average selling price by condition\n",
        "plt.figure(figsize=(10, 6))\n",
        "avg_price_by_condition.plot(kind='bar', color='skyblue')\n",
        "plt.title('Average Selling Price by Condition')\n",
        "plt.xlabel('Condition')\n",
        "plt.ylabel('Average Selling Price ($)')\n",
        "plt.grid(axis='y')\n",
        "plt.show()"
      ],
      "metadata": {
        "id": "B2aS4O1ophqO"
      },
      "execution_count": null,
      "outputs": []
    },
    {
      "cell_type": "markdown",
      "source": [
        "##### 1. Why did you pick the specific chart?"
      ],
      "metadata": {
        "id": "gCFgpxoyphqP"
      }
    },
    {
      "cell_type": "markdown",
      "source": [
        "The bar chart is selected to illustrate the average selling prices by condition, offering a clear and concise comparison of pricing variations based on the condition of vehicles in the dataset."
      ],
      "metadata": {
        "id": "TVxDimi2phqP"
      }
    },
    {
      "cell_type": "markdown",
      "source": [
        "##### 2. What is/are the insight(s) found from the chart?"
      ],
      "metadata": {
        "id": "OVtJsKN_phqQ"
      }
    },
    {
      "cell_type": "markdown",
      "source": [
        "The bar chart displays the average selling prices categorized by vehicle condition, highlighting that better conditions are associated with higher average prices. This insight assists in identifying the price variations across conditions and informs decision-making for inventory management and pricing strategies, supporting a nuanced understanding of market dynamics related to vehicle conditions."
      ],
      "metadata": {
        "id": "ngGi97qjphqQ"
      }
    },
    {
      "cell_type": "markdown",
      "source": [
        "##### 3. Will the gained insights help creating a positive business impact?\n",
        "Are there any insights that lead to negative growth? Justify with specific reason."
      ],
      "metadata": {
        "id": "lssrdh5qphqQ"
      }
    },
    {
      "cell_type": "markdown",
      "source": [
        "The insights from the chart can positively influence business by guiding strategic pricing and inventory decisions, potentially boosting sales. Conversely, neglecting to align strategies with condition-related trends may lead to negative growth due to a potential mismatch in market offerings and customer preferences."
      ],
      "metadata": {
        "id": "tBpY5ekJphqQ"
      }
    },
    {
      "cell_type": "markdown",
      "source": [
        "#### Chart - 10"
      ],
      "metadata": {
        "id": "U2RJ9gkRphqQ"
      }
    },
    {
      "cell_type": "code",
      "source": [
        "# Chart - 10 visualization code\n",
        "# Calculate the average selling price by state\n",
        "avg_price_by_state = df.groupby('state')['sellingprice'].mean().sort_values(ascending=False)\n",
        "\n",
        "# Set a suitable figure size\n",
        "plt.figure(figsize=(12, 8))\n",
        "\n",
        "# Plot the Bar Chart\n",
        "avg_price_by_state.plot(kind='bar', color='blue')\n",
        "plt.title('Average Selling Price by State')\n",
        "plt.xlabel('State')\n",
        "plt.ylabel('Average Selling Price ($)')\n",
        "plt.grid(axis='y')\n",
        "plt.show()"
      ],
      "metadata": {
        "id": "GM7a4YP4phqQ"
      },
      "execution_count": null,
      "outputs": []
    },
    {
      "cell_type": "markdown",
      "source": [
        "##### 1. Why did you pick the specific chart?"
      ],
      "metadata": {
        "id": "1M8mcRywphqQ"
      }
    },
    {
      "cell_type": "markdown",
      "source": [
        "Comparison of Numerical Data: Bar charts are effective for comparing numerical data (average selling prices in this case) across different categories (states). Each bar represents a state, and the height of the bar corresponds to the average selling price for that state, making it easy to compare prices between states.\n",
        "\n",
        "Clear Representation: Bar charts provide a clear and straightforward representation of data, making it easy for viewers to understand and interpret the average selling prices for each state at a glance."
      ],
      "metadata": {
        "id": "8agQvks0phqQ"
      }
    },
    {
      "cell_type": "markdown",
      "source": [
        "##### 2. What is/are the insight(s) found from the chart?"
      ],
      "metadata": {
        "id": "tgIPom80phqQ"
      }
    },
    {
      "cell_type": "markdown",
      "source": [
        "Regional Price Variations: The chart highlights significant variations in average selling prices across different states. States with higher bars indicate higher average selling prices, while states with lower bars have comparatively lower average prices. This suggests that regional factors, such as market demand, economic conditions, or local preferences, influence vehicle pricing.\n",
        "\n",
        "High-Value Markets: States with the tallest bars represent high-value markets where vehicles tend to sell at higher prices on average. Identifying these high-value markets is crucial for automakers and dealerships to allocate resources effectively and target marketing efforts towards these regions."
      ],
      "metadata": {
        "id": "Qp13pnNzphqQ"
      }
    },
    {
      "cell_type": "markdown",
      "source": [
        "##### 3. Will the gained insights help creating a positive business impact?\n",
        "Are there any insights that lead to negative growth? Justify with specific reason."
      ],
      "metadata": {
        "id": "JMzcOPDDphqR"
      }
    },
    {
      "cell_type": "markdown",
      "source": [
        "Positive Impact:\n",
        "Insights from average selling price by state can help businesses tailor marketing strategies, optimize pricing, and allocate resources effectively in high-value markets, potentially leading to increased revenue and profitability.\n",
        "\n",
        "Negative Impact:\n",
        "Overemphasis on high-priced markets may lead to market saturation and intensified competition, while neglecting lower-priced markets could result in missed revenue opportunities and hinder overall growth potential. Additionally, customer perception issues in lower-priced markets could impact brand reputation and loyalty, leading to negative growth."
      ],
      "metadata": {
        "id": "R4Ka1PC2phqR"
      }
    },
    {
      "cell_type": "markdown",
      "source": [
        "#### Chart - 11"
      ],
      "metadata": {
        "id": "x-EpHcCOp1ci"
      }
    },
    {
      "cell_type": "code",
      "source": [
        "# Chart - 11 visualization code\n",
        "# Countplot of Transmission Types: Illustrating the count of each transmission type.\n",
        "# Set a suitable figure size\n",
        "plt.figure(figsize=(10, 6))\n",
        "\n",
        "# Plot the Countplot\n",
        "sns.countplot(data=df, x='transmission')\n",
        "plt.title('Count of Vehicles by Transmission Type')\n",
        "plt.xlabel('Transmission Type')\n",
        "plt.ylabel('Count')\n",
        "plt.show()"
      ],
      "metadata": {
        "id": "mAQTIvtqp1cj"
      },
      "execution_count": null,
      "outputs": []
    },
    {
      "cell_type": "markdown",
      "source": [
        "##### 1. Why did you pick the specific chart?"
      ],
      "metadata": {
        "id": "X_VqEhTip1ck"
      }
    },
    {
      "cell_type": "markdown",
      "source": [
        "The countplot directly shows the counts of observations in each category, which can be informative when you want to understand the distribution of sales across different categories.It is straightforward and easy to interpret. Each bar represents the count of observations in a category, making it simple to compare between categories."
      ],
      "metadata": {
        "id": "-vsMzt_np1ck"
      }
    },
    {
      "cell_type": "markdown",
      "source": [
        "##### 2. What is/are the insight(s) found from the chart?"
      ],
      "metadata": {
        "id": "8zGJKyg5p1ck"
      }
    },
    {
      "cell_type": "markdown",
      "source": [
        "Prevalence of Transmission Types: The countplot would reveal which transmission types are most commonly found within your dataset. You could identify whether automatic, manual, CVT (Continuously Variable Transmission), or other types dominate the market.\n",
        "Consumer Preferences: If one transmission type significantly outweighs the others in terms of counts, it suggests a strong consumer preference for that type. This insight could influence decisions related to inventory management, production planning, or marketing strategies."
      ],
      "metadata": {
        "id": "ZYdMsrqVp1ck"
      }
    },
    {
      "cell_type": "markdown",
      "source": [
        "##### 3. Will the gained insights help creating a positive business impact?\n",
        "Are there any insights that lead to negative growth? Justify with specific reason."
      ],
      "metadata": {
        "id": "PVzmfK_Ep1ck"
      }
    },
    {
      "cell_type": "markdown",
      "source": [
        "Meeting Consumer Demand: Understanding which transmission types are most popular among consumers allows businesses to align their product offerings with market preferences. This alignment can lead to increased sales and customer satisfaction as the company provides vehicles that meet consumer needs and preferences.\n",
        "Failure to Adapt to Market Trends: If a company ignores or misinterprets insights from the countplot and continues to produce vehicles with outdated or unpopular transmission types, it may experience negative growth. Consumers may prefer competitors' vehicles with more desirable transmission options, leading to decreased market share and sales."
      ],
      "metadata": {
        "id": "druuKYZpp1ck"
      }
    },
    {
      "cell_type": "markdown",
      "source": [
        "#### Chart - 12"
      ],
      "metadata": {
        "id": "n3dbpmDWp1ck"
      }
    },
    {
      "cell_type": "code",
      "source": [
        "# Chart - 12 visualization code\n",
        "# Create subplots\n",
        "fig, axs = plt.subplots(nrows=2,ncols=1,sharex=True, figsize=(10, 8))\n",
        "\n",
        "# Plot selling price\n",
        "axs[0].scatter(df['year'], df['sellingprice'], marker='+', color='b')\n",
        "axs[0].set_title('Selling Price Over Time')\n",
        "axs[0].set_xlabel('Date')\n",
        "axs[0].set_ylabel('Selling Price ($)')\n",
        "#plot mileage\n",
        "axs[1].scatter(df['year'], df['odometer'], color='r',marker='+')\n",
        "axs[1].set_title('Scatterplot of Mileage Over Time')\n",
        "axs[1].set_xlabel('Date')\n",
        "axs[1].set_ylabel('Mileage')"
      ],
      "metadata": {
        "id": "bwevp1tKp1ck"
      },
      "execution_count": null,
      "outputs": []
    },
    {
      "cell_type": "markdown",
      "source": [
        "##### 1. Why did you pick the specific chart?"
      ],
      "metadata": {
        "id": "ylSl6qgtp1ck"
      }
    },
    {
      "cell_type": "markdown",
      "source": [
        "Comparison: Subplots enable a direct comparison between different variables or datasets. In this case, selling price and mileage are two distinct variables that are being plotted against the same time axis (year). By placing them in separate subplots, it's easy to compare their trends and distributions side by side.\n",
        "\n",
        "Space Efficiency: Using subplots allows you to maximize the use of space within a single figure. Rather than creating separate figures for each variable, subplots enable you to display multiple plots within the same visualization, reducing clutter and making it easier to interpret the data."
      ],
      "metadata": {
        "id": "m2xqNkiQp1ck"
      }
    },
    {
      "cell_type": "markdown",
      "source": [
        "##### 2. What is/are the insight(s) found from the chart?"
      ],
      "metadata": {
        "id": "ZWILFDl5p1ck"
      }
    },
    {
      "cell_type": "markdown",
      "source": [
        "Trend Identification: By observing the general direction of the data points in each scatter plot, one can identify trends in selling price and mileage over time. For example, if the selling price tends to increase while mileage decreases over time, it suggests that newer vehicles with lower mileage tend to command higher prices.\n",
        "\n",
        "Correlation Assessment: Examining the distribution of data points in relation to the regression line or pattern in each scatter plot can provide insight into the correlation between selling price and mileage. If the data points are clustered closely around the regression line, it indicates a strong correlation, whereas scattered points suggest a weaker correlation."
      ],
      "metadata": {
        "id": "x-lUsV2mp1ck"
      }
    },
    {
      "cell_type": "markdown",
      "source": [
        "##### 3. Will the gained insights help creating a positive business impact?\n",
        "Are there any insights that lead to negative growth? Justify with specific reason."
      ],
      "metadata": {
        "id": "M7G43BXep1ck"
      }
    },
    {
      "cell_type": "markdown",
      "source": [
        " The insights gained from the scatter plots can positively impact businesses by informing pricing strategies, optimizing inventory management, and understanding customer preferences. However, failure to address negative trends or misinterpretation of data could lead to declining sales and profitability. It's crucial for businesses to leverage these insights effectively to achieve sustainable growth in the automotive industry.\n",
        "\n",
        "\n",
        "\n",
        "\n"
      ],
      "metadata": {
        "id": "5wwDJXsLp1cl"
      }
    },
    {
      "cell_type": "markdown",
      "source": [
        "#### Chart - 13"
      ],
      "metadata": {
        "id": "Ag9LCva-p1cl"
      }
    },
    {
      "cell_type": "code",
      "source": [
        "# Chart - 13 visualization code\n",
        "\n",
        "# Create a violin plot by make\n",
        "plt.figure(figsize=(20, 8))\n",
        "sns.violinplot(x='make', y='sellingprice', data=df)\n",
        "plt.title('Distribution of Vehicle Prices by Make')\n",
        "plt.xlabel('Vehicle Make')\n",
        "plt.ylabel('Price ($)')\n",
        "plt.xticks(rotation=90)  # Rotate x-axis labels for better readability\n",
        "plt.tight_layout()\n",
        "\n",
        "# Show the plot\n",
        "plt.show()"
      ],
      "metadata": {
        "id": "EUfxeq9-p1cl"
      },
      "execution_count": null,
      "outputs": []
    },
    {
      "cell_type": "markdown",
      "source": [
        "##### 1. Why did you pick the specific chart?"
      ],
      "metadata": {
        "id": "E6MkPsBcp1cl"
      }
    },
    {
      "cell_type": "markdown",
      "source": [
        "A violin plot provides a concise visual summary of the distribution of a continuous variable (in this case, selling price) within each category of a categorical variable (vehicle make). It allows for easy comparison of price distributions across different vehicle makes."
      ],
      "metadata": {
        "id": "V22bRsFWp1cl"
      }
    },
    {
      "cell_type": "markdown",
      "source": [
        "##### 2. What is/are the insight(s) found from the chart?"
      ],
      "metadata": {
        "id": "2cELzS2fp1cl"
      }
    },
    {
      "cell_type": "markdown",
      "source": [
        "Price Distribution Variation: The width of the violin plot for each make indicates the density of vehicle prices within that make. Wider sections represent higher density, suggesting that there is more variability in prices for some makes compared to others.\n",
        "\n",
        "Central Tendency: The thicker part of the violin plot (the \"body\") represents the most common prices within each make. By observing the height and position of this portion, one can infer the central tendency or typical price range for each vehicle make.\n",
        "\n",
        "Outliers: The tails of the violin plot represent the less common price points or outliers. By examining the length and thickness of the tails, one can identify which makes have more outliers or extreme price variations."
      ],
      "metadata": {
        "id": "ozQPc2_Ip1cl"
      }
    },
    {
      "cell_type": "markdown",
      "source": [
        "##### 3. Will the gained insights help creating a positive business impact?\n",
        "Are there any insights that lead to negative growth? Justify with specific reason."
      ],
      "metadata": {
        "id": "3MPXvC8up1cl"
      }
    },
    {
      "cell_type": "markdown",
      "source": [
        "Positive Impact:\n",
        "Insights can optimize pricing strategies, target marketing efforts, and enhance competitive positioning.\n",
        "\n",
        "Negative Growth Potential:\n",
        "Misjudged pricing can lead to overpricing or underpricing, risking sales and profit.\n",
        "Ignoring niche markets or failing to address brand perception challenges could limit growth opportunities.\n",
        "\n",
        "\n",
        "\n"
      ],
      "metadata": {
        "id": "GL8l1tdLp1cl"
      }
    },
    {
      "cell_type": "markdown",
      "source": [
        "#### Chart - 14 - Correlation Heatmap"
      ],
      "metadata": {
        "id": "NC_X3p0fY2L0"
      }
    },
    {
      "cell_type": "code",
      "source": [
        "# Correlation Heatmap visualization code\n",
        "plt.figure(figsize=(10, 8))\n",
        "sns.heatmap(df.corr(), annot=True, cmap='coolwarm', fmt=\".2f\")\n",
        "plt.title('Correlation Matrix')\n",
        "plt.show()"
      ],
      "metadata": {
        "id": "xyC9zolEZNRQ"
      },
      "execution_count": null,
      "outputs": []
    },
    {
      "cell_type": "markdown",
      "source": [
        "##### 1. Why did you pick the specific chart?"
      ],
      "metadata": {
        "id": "UV0SzAkaZNRQ"
      }
    },
    {
      "cell_type": "markdown",
      "source": [
        "The heatmap of the correlation matrix is chosen to visually represent and quantify the strength and direction of relationships between numerical variables in the dataset. It aids in identifying dependencies and is useful for making informed decisions in data analysis."
      ],
      "metadata": {
        "id": "DVPuT8LYZNRQ"
      }
    },
    {
      "cell_type": "markdown",
      "source": [
        "##### 2. What is/are the insight(s) found from the chart?"
      ],
      "metadata": {
        "id": "YPEH6qLeZNRQ"
      }
    },
    {
      "cell_type": "markdown",
      "source": [
        "Strength of Relationships: The heatmap quantifies the strength of relationships between numerical variables, revealing the degree of correlation.\n",
        "\n",
        "Direction of Correlation: Positive values indicate variables moving in the same direction, while negative values suggest variables moving in opposite directions."
      ],
      "metadata": {
        "id": "bfSqtnDqZNRR"
      }
    },
    {
      "cell_type": "markdown",
      "source": [
        "#### Chart - 15 - Pair Plot"
      ],
      "metadata": {
        "id": "q29F0dvdveiT"
      }
    },
    {
      "cell_type": "code",
      "source": [
        "# Pair Plot visualization code\n",
        "#Create a pairplot to visualize pairwise relationships between numerical variables such as 'sellingprice', 'odometer', and 'year'.\n",
        "#This plot provides a comprehensive view of correlations and distributions.\n",
        "sns.pairplot(df[['sellingprice','odometer','year']])\n",
        "plt.show()"
      ],
      "metadata": {
        "id": "o58-TEIhveiU"
      },
      "execution_count": null,
      "outputs": []
    },
    {
      "cell_type": "markdown",
      "source": [
        "##### 1. Why did you pick the specific chart?"
      ],
      "metadata": {
        "id": "EXh0U9oCveiU"
      }
    },
    {
      "cell_type": "markdown",
      "source": [
        "The pairplot is selected for its ability to offer a comprehensive view of correlations and distributions between 'sellingprice', 'odometer', and 'year', allowing simultaneous examination of multiple factors for a holistic understanding in a concise manner."
      ],
      "metadata": {
        "id": "eMmPjTByveiU"
      }
    },
    {
      "cell_type": "markdown",
      "source": [
        "##### 2. What is/are the insight(s) found from the chart?"
      ],
      "metadata": {
        "id": "22aHeOlLveiV"
      }
    },
    {
      "cell_type": "markdown",
      "source": [
        "The pairplot provides the following insights:\n",
        "\n",
        "Correlations: By examining the scatterplots, one can identify potential correlations between 'sellingprice', 'odometer', and 'year', gaining insights into how these variables may interact.\n",
        "\n",
        "Distributions: The diagonal histograms display the univariate distribution of each variable, offering insights into the spread and concentration of data points for 'sellingprice', 'odometer', and 'year'.\n",
        "\n",
        "Potential Outliers: Outliers or unusual patterns in the scatterplots may be noticeable, providing insights into exceptional cases or data points that deviate from the overall trends."
      ],
      "metadata": {
        "id": "uPQ8RGwHveiV"
      }
    },
    {
      "cell_type": "markdown",
      "source": [
        "## ***5. Hypothesis Testing***"
      ],
      "metadata": {
        "id": "g-ATYxFrGrvw"
      }
    },
    {
      "cell_type": "markdown",
      "source": [
        "### Based on your chart experiments, define three hypothetical statements from the dataset. In the next three questions, perform hypothesis testing to obtain final conclusion about the statements through your code and statistical testing."
      ],
      "metadata": {
        "id": "Yfr_Vlr8HBkt"
      }
    },
    {
      "cell_type": "markdown",
      "source": [
        "Answer Here."
      ],
      "metadata": {
        "id": "-7MS06SUHkB-"
      }
    },
    {
      "cell_type": "markdown",
      "source": [
        "### Hypothetical Statement - 1"
      ],
      "metadata": {
        "id": "8yEUt7NnHlrM"
      }
    },
    {
      "cell_type": "markdown",
      "source": [
        "#### 1. State Your research hypothesis as a null hypothesis and alternate hypothesis."
      ],
      "metadata": {
        "id": "tEA2Xm5dHt1r"
      }
    },
    {
      "cell_type": "markdown",
      "source": [
        "Answer Here."
      ],
      "metadata": {
        "id": "HI9ZP0laH0D-"
      }
    },
    {
      "cell_type": "markdown",
      "source": [
        "#### 2. Perform an appropriate statistical test."
      ],
      "metadata": {
        "id": "I79__PHVH19G"
      }
    },
    {
      "cell_type": "code",
      "source": [
        "# Perform Statistical Test to obtain P-Value"
      ],
      "metadata": {
        "id": "oZrfquKtyian"
      },
      "execution_count": null,
      "outputs": []
    },
    {
      "cell_type": "markdown",
      "source": [
        "##### Which statistical test have you done to obtain P-Value?"
      ],
      "metadata": {
        "id": "Ou-I18pAyIpj"
      }
    },
    {
      "cell_type": "markdown",
      "source": [
        "Answer Here."
      ],
      "metadata": {
        "id": "s2U0kk00ygSB"
      }
    },
    {
      "cell_type": "markdown",
      "source": [
        "##### Why did you choose the specific statistical test?"
      ],
      "metadata": {
        "id": "fF3858GYyt-u"
      }
    },
    {
      "cell_type": "markdown",
      "source": [
        "Answer Here."
      ],
      "metadata": {
        "id": "HO4K0gP5y3B4"
      }
    },
    {
      "cell_type": "markdown",
      "source": [
        "### Hypothetical Statement - 2"
      ],
      "metadata": {
        "id": "4_0_7-oCpUZd"
      }
    },
    {
      "cell_type": "markdown",
      "source": [
        "#### 1. State Your research hypothesis as a null hypothesis and alternate hypothesis."
      ],
      "metadata": {
        "id": "hwyV_J3ipUZe"
      }
    },
    {
      "cell_type": "markdown",
      "source": [
        "Answer Here."
      ],
      "metadata": {
        "id": "FnpLGJ-4pUZe"
      }
    },
    {
      "cell_type": "markdown",
      "source": [
        "#### 2. Perform an appropriate statistical test."
      ],
      "metadata": {
        "id": "3yB-zSqbpUZe"
      }
    },
    {
      "cell_type": "code",
      "source": [
        "# Perform Statistical Test to obtain P-Value"
      ],
      "metadata": {
        "id": "sWxdNTXNpUZe"
      },
      "execution_count": null,
      "outputs": []
    },
    {
      "cell_type": "markdown",
      "source": [
        "##### Which statistical test have you done to obtain P-Value?"
      ],
      "metadata": {
        "id": "dEUvejAfpUZe"
      }
    },
    {
      "cell_type": "markdown",
      "source": [
        "Answer Here."
      ],
      "metadata": {
        "id": "oLDrPz7HpUZf"
      }
    },
    {
      "cell_type": "markdown",
      "source": [
        "##### Why did you choose the specific statistical test?"
      ],
      "metadata": {
        "id": "Fd15vwWVpUZf"
      }
    },
    {
      "cell_type": "markdown",
      "source": [
        "Answer Here."
      ],
      "metadata": {
        "id": "4xOGYyiBpUZf"
      }
    },
    {
      "cell_type": "markdown",
      "source": [
        "### Hypothetical Statement - 3"
      ],
      "metadata": {
        "id": "bn_IUdTipZyH"
      }
    },
    {
      "cell_type": "markdown",
      "source": [
        "#### 1. State Your research hypothesis as a null hypothesis and alternate hypothesis."
      ],
      "metadata": {
        "id": "49K5P_iCpZyH"
      }
    },
    {
      "cell_type": "markdown",
      "source": [
        "Answer Here."
      ],
      "metadata": {
        "id": "7gWI5rT9pZyH"
      }
    },
    {
      "cell_type": "markdown",
      "source": [
        "#### 2. Perform an appropriate statistical test."
      ],
      "metadata": {
        "id": "Nff-vKELpZyI"
      }
    },
    {
      "cell_type": "code",
      "source": [
        "# Perform Statistical Test to obtain P-Value"
      ],
      "metadata": {
        "id": "s6AnJQjtpZyI"
      },
      "execution_count": null,
      "outputs": []
    },
    {
      "cell_type": "markdown",
      "source": [
        "##### Which statistical test have you done to obtain P-Value?"
      ],
      "metadata": {
        "id": "kLW572S8pZyI"
      }
    },
    {
      "cell_type": "markdown",
      "source": [
        "Answer Here."
      ],
      "metadata": {
        "id": "ytWJ8v15pZyI"
      }
    },
    {
      "cell_type": "markdown",
      "source": [
        "##### Why did you choose the specific statistical test?"
      ],
      "metadata": {
        "id": "dWbDXHzopZyI"
      }
    },
    {
      "cell_type": "markdown",
      "source": [
        "Answer Here."
      ],
      "metadata": {
        "id": "M99G98V6pZyI"
      }
    },
    {
      "cell_type": "markdown",
      "source": [
        "## ***6. Feature Engineering & Data Pre-processing***"
      ],
      "metadata": {
        "id": "yLjJCtPM0KBk"
      }
    },
    {
      "cell_type": "markdown",
      "source": [
        "### 1. Handling Missing Values"
      ],
      "metadata": {
        "id": "xiyOF9F70UgQ"
      }
    },
    {
      "cell_type": "code",
      "source": [
        "# Handling Missing Values & Missing Value Imputation"
      ],
      "metadata": {
        "id": "iRsAHk1K0fpS"
      },
      "execution_count": null,
      "outputs": []
    },
    {
      "cell_type": "markdown",
      "source": [
        "#### What all missing value imputation techniques have you used and why did you use those techniques?"
      ],
      "metadata": {
        "id": "7wuGOrhz0itI"
      }
    },
    {
      "cell_type": "markdown",
      "source": [
        "Answer Here."
      ],
      "metadata": {
        "id": "1ixusLtI0pqI"
      }
    },
    {
      "cell_type": "markdown",
      "source": [
        "### 2. Handling Outliers"
      ],
      "metadata": {
        "id": "id1riN9m0vUs"
      }
    },
    {
      "cell_type": "code",
      "source": [
        "# Handling Outliers & Outlier treatments"
      ],
      "metadata": {
        "id": "M6w2CzZf04JK"
      },
      "execution_count": null,
      "outputs": []
    },
    {
      "cell_type": "markdown",
      "source": [
        "##### What all outlier treatment techniques have you used and why did you use those techniques?"
      ],
      "metadata": {
        "id": "578E2V7j08f6"
      }
    },
    {
      "cell_type": "markdown",
      "source": [
        "Answer Here."
      ],
      "metadata": {
        "id": "uGZz5OrT1HH-"
      }
    },
    {
      "cell_type": "markdown",
      "source": [
        "### 3. Categorical Encoding"
      ],
      "metadata": {
        "id": "89xtkJwZ18nB"
      }
    },
    {
      "cell_type": "code",
      "source": [
        "# Encode your categorical columns"
      ],
      "metadata": {
        "id": "21JmIYMG2hEo"
      },
      "execution_count": null,
      "outputs": []
    },
    {
      "cell_type": "markdown",
      "source": [
        "#### What all categorical encoding techniques have you used & why did you use those techniques?"
      ],
      "metadata": {
        "id": "67NQN5KX2AMe"
      }
    },
    {
      "cell_type": "markdown",
      "source": [
        "Answer Here."
      ],
      "metadata": {
        "id": "UDaue5h32n_G"
      }
    },
    {
      "cell_type": "markdown",
      "source": [
        "### 4. Textual Data Preprocessing\n",
        "(It's mandatory for textual dataset i.e., NLP, Sentiment Analysis, Text Clustering etc.)"
      ],
      "metadata": {
        "id": "Iwf50b-R2tYG"
      }
    },
    {
      "cell_type": "markdown",
      "source": [
        "#### 1. Expand Contraction"
      ],
      "metadata": {
        "id": "GMQiZwjn3iu7"
      }
    },
    {
      "cell_type": "code",
      "source": [
        "# Expand Contraction"
      ],
      "metadata": {
        "id": "PTouz10C3oNN"
      },
      "execution_count": null,
      "outputs": []
    },
    {
      "cell_type": "markdown",
      "source": [
        "#### 2. Lower Casing"
      ],
      "metadata": {
        "id": "WVIkgGqN3qsr"
      }
    },
    {
      "cell_type": "code",
      "source": [
        "# Lower Casing"
      ],
      "metadata": {
        "id": "88JnJ1jN3w7j"
      },
      "execution_count": null,
      "outputs": []
    },
    {
      "cell_type": "markdown",
      "source": [
        "#### 3. Removing Punctuations"
      ],
      "metadata": {
        "id": "XkPnILGE3zoT"
      }
    },
    {
      "cell_type": "code",
      "source": [
        "# Remove Punctuations"
      ],
      "metadata": {
        "id": "vqbBqNaA33c0"
      },
      "execution_count": null,
      "outputs": []
    },
    {
      "cell_type": "markdown",
      "source": [
        "#### 4. Removing URLs & Removing words and digits contain digits."
      ],
      "metadata": {
        "id": "Hlsf0x5436Go"
      }
    },
    {
      "cell_type": "code",
      "source": [
        "# Remove URLs & Remove words and digits contain digits"
      ],
      "metadata": {
        "id": "2sxKgKxu4Ip3"
      },
      "execution_count": null,
      "outputs": []
    },
    {
      "cell_type": "markdown",
      "source": [
        "#### 5. Removing Stopwords & Removing White spaces"
      ],
      "metadata": {
        "id": "mT9DMSJo4nBL"
      }
    },
    {
      "cell_type": "code",
      "source": [
        "# Remove Stopwords"
      ],
      "metadata": {
        "id": "T2LSJh154s8W"
      },
      "execution_count": null,
      "outputs": []
    },
    {
      "cell_type": "code",
      "source": [
        "# Remove White spaces"
      ],
      "metadata": {
        "id": "EgLJGffy4vm0"
      },
      "execution_count": null,
      "outputs": []
    },
    {
      "cell_type": "markdown",
      "source": [
        "#### 6. Rephrase Text"
      ],
      "metadata": {
        "id": "c49ITxTc407N"
      }
    },
    {
      "cell_type": "code",
      "source": [
        "# Rephrase Text"
      ],
      "metadata": {
        "id": "foqY80Qu48N2"
      },
      "execution_count": null,
      "outputs": []
    },
    {
      "cell_type": "markdown",
      "source": [
        "#### 7. Tokenization"
      ],
      "metadata": {
        "id": "OeJFEK0N496M"
      }
    },
    {
      "cell_type": "code",
      "source": [
        "# Tokenization"
      ],
      "metadata": {
        "id": "ijx1rUOS5CUU"
      },
      "execution_count": null,
      "outputs": []
    },
    {
      "cell_type": "markdown",
      "source": [
        "#### 8. Text Normalization"
      ],
      "metadata": {
        "id": "9ExmJH0g5HBk"
      }
    },
    {
      "cell_type": "code",
      "source": [
        "# Normalizing Text (i.e., Stemming, Lemmatization etc.)"
      ],
      "metadata": {
        "id": "AIJ1a-Zc5PY8"
      },
      "execution_count": null,
      "outputs": []
    },
    {
      "cell_type": "markdown",
      "source": [
        "##### Which text normalization technique have you used and why?"
      ],
      "metadata": {
        "id": "cJNqERVU536h"
      }
    },
    {
      "cell_type": "markdown",
      "source": [
        "Answer Here."
      ],
      "metadata": {
        "id": "Z9jKVxE06BC1"
      }
    },
    {
      "cell_type": "markdown",
      "source": [
        "#### 9. Part of speech tagging"
      ],
      "metadata": {
        "id": "k5UmGsbsOxih"
      }
    },
    {
      "cell_type": "code",
      "source": [
        "# POS Taging"
      ],
      "metadata": {
        "id": "btT3ZJBAO6Ik"
      },
      "execution_count": null,
      "outputs": []
    },
    {
      "cell_type": "markdown",
      "source": [
        "#### 10. Text Vectorization"
      ],
      "metadata": {
        "id": "T0VqWOYE6DLQ"
      }
    },
    {
      "cell_type": "code",
      "source": [
        "# Vectorizing Text"
      ],
      "metadata": {
        "id": "yBRtdhth6JDE"
      },
      "execution_count": null,
      "outputs": []
    },
    {
      "cell_type": "markdown",
      "source": [
        "##### Which text vectorization technique have you used and why?"
      ],
      "metadata": {
        "id": "qBMux9mC6MCf"
      }
    },
    {
      "cell_type": "markdown",
      "source": [
        "Answer Here."
      ],
      "metadata": {
        "id": "su2EnbCh6UKQ"
      }
    },
    {
      "cell_type": "markdown",
      "source": [
        "### 4. Feature Manipulation & Selection"
      ],
      "metadata": {
        "id": "-oLEiFgy-5Pf"
      }
    },
    {
      "cell_type": "markdown",
      "source": [
        "#### 1. Feature Manipulation"
      ],
      "metadata": {
        "id": "C74aWNz2AliB"
      }
    },
    {
      "cell_type": "code",
      "source": [
        "# Manipulate Features to minimize feature correlation and create new features"
      ],
      "metadata": {
        "id": "h1qC4yhBApWC"
      },
      "execution_count": null,
      "outputs": []
    },
    {
      "cell_type": "markdown",
      "source": [
        "#### 2. Feature Selection"
      ],
      "metadata": {
        "id": "2DejudWSA-a0"
      }
    },
    {
      "cell_type": "code",
      "source": [
        "# Select your features wisely to avoid overfitting"
      ],
      "metadata": {
        "id": "YLhe8UmaBCEE"
      },
      "execution_count": null,
      "outputs": []
    },
    {
      "cell_type": "markdown",
      "source": [
        "##### What all feature selection methods have you used  and why?"
      ],
      "metadata": {
        "id": "pEMng2IbBLp7"
      }
    },
    {
      "cell_type": "markdown",
      "source": [
        "Answer Here."
      ],
      "metadata": {
        "id": "rb2Lh6Z8BgGs"
      }
    },
    {
      "cell_type": "markdown",
      "source": [
        "##### Which all features you found important and why?"
      ],
      "metadata": {
        "id": "rAdphbQ9Bhjc"
      }
    },
    {
      "cell_type": "markdown",
      "source": [
        "Answer Here."
      ],
      "metadata": {
        "id": "fGgaEstsBnaf"
      }
    },
    {
      "cell_type": "markdown",
      "source": [
        "### 5. Data Transformation"
      ],
      "metadata": {
        "id": "TNVZ9zx19K6k"
      }
    },
    {
      "cell_type": "markdown",
      "source": [
        "#### Do you think that your data needs to be transformed? If yes, which transformation have you used. Explain Why?"
      ],
      "metadata": {
        "id": "nqoHp30x9hH9"
      }
    },
    {
      "cell_type": "code",
      "source": [
        "# Transform Your data"
      ],
      "metadata": {
        "id": "I6quWQ1T9rtH"
      },
      "execution_count": null,
      "outputs": []
    },
    {
      "cell_type": "markdown",
      "source": [
        "### 6. Data Scaling"
      ],
      "metadata": {
        "id": "rMDnDkt2B6du"
      }
    },
    {
      "cell_type": "code",
      "source": [
        "# Scaling your data"
      ],
      "metadata": {
        "id": "dL9LWpySC6x_"
      },
      "execution_count": null,
      "outputs": []
    },
    {
      "cell_type": "markdown",
      "source": [
        "##### Which method have you used to scale you data and why?"
      ],
      "metadata": {
        "id": "yiiVWRdJDDil"
      }
    },
    {
      "cell_type": "markdown",
      "source": [
        "### 7. Dimesionality Reduction"
      ],
      "metadata": {
        "id": "1UUpS68QDMuG"
      }
    },
    {
      "cell_type": "markdown",
      "source": [
        "##### Do you think that dimensionality reduction is needed? Explain Why?"
      ],
      "metadata": {
        "id": "kexQrXU-DjzY"
      }
    },
    {
      "cell_type": "markdown",
      "source": [
        "Answer Here."
      ],
      "metadata": {
        "id": "GGRlBsSGDtTQ"
      }
    },
    {
      "cell_type": "code",
      "source": [
        "# DImensionality Reduction (If needed)"
      ],
      "metadata": {
        "id": "kQfvxBBHDvCa"
      },
      "execution_count": null,
      "outputs": []
    },
    {
      "cell_type": "markdown",
      "source": [
        "##### Which dimensionality reduction technique have you used and why? (If dimensionality reduction done on dataset.)"
      ],
      "metadata": {
        "id": "T5CmagL3EC8N"
      }
    },
    {
      "cell_type": "markdown",
      "source": [
        "Answer Here."
      ],
      "metadata": {
        "id": "ZKr75IDuEM7t"
      }
    },
    {
      "cell_type": "markdown",
      "source": [
        "### 8. Data Splitting"
      ],
      "metadata": {
        "id": "BhH2vgX9EjGr"
      }
    },
    {
      "cell_type": "code",
      "source": [
        "# Split your data to train and test. Choose Splitting ratio wisely."
      ],
      "metadata": {
        "id": "0CTyd2UwEyNM"
      },
      "execution_count": null,
      "outputs": []
    },
    {
      "cell_type": "markdown",
      "source": [
        "##### What data splitting ratio have you used and why?"
      ],
      "metadata": {
        "id": "qjKvONjwE8ra"
      }
    },
    {
      "cell_type": "markdown",
      "source": [
        "Answer Here."
      ],
      "metadata": {
        "id": "Y2lJ8cobFDb_"
      }
    },
    {
      "cell_type": "markdown",
      "source": [
        "### 9. Handling Imbalanced Dataset"
      ],
      "metadata": {
        "id": "P1XJ9OREExlT"
      }
    },
    {
      "cell_type": "markdown",
      "source": [
        "##### Do you think the dataset is imbalanced? Explain Why."
      ],
      "metadata": {
        "id": "VFOzZv6IFROw"
      }
    },
    {
      "cell_type": "markdown",
      "source": [
        "Answer Here."
      ],
      "metadata": {
        "id": "GeKDIv7pFgcC"
      }
    },
    {
      "cell_type": "code",
      "source": [
        "# Handling Imbalanced Dataset (If needed)"
      ],
      "metadata": {
        "id": "nQsRhhZLFiDs"
      },
      "execution_count": null,
      "outputs": []
    },
    {
      "cell_type": "markdown",
      "source": [
        "##### What technique did you use to handle the imbalance dataset and why? (If needed to be balanced)"
      ],
      "metadata": {
        "id": "TIqpNgepFxVj"
      }
    },
    {
      "cell_type": "markdown",
      "source": [
        "Answer Here."
      ],
      "metadata": {
        "id": "qbet1HwdGDTz"
      }
    },
    {
      "cell_type": "markdown",
      "source": [
        "## ***7. ML Model Implementation***"
      ],
      "metadata": {
        "id": "VfCC591jGiD4"
      }
    },
    {
      "cell_type": "markdown",
      "source": [
        "### ML Model - 1"
      ],
      "metadata": {
        "id": "OB4l2ZhMeS1U"
      }
    },
    {
      "cell_type": "code",
      "source": [
        "# ML Model - 1 Implementation\n",
        "\n",
        "# Fit the Algorithm\n",
        "\n",
        "# Predict on the model"
      ],
      "metadata": {
        "id": "7ebyywQieS1U"
      },
      "execution_count": null,
      "outputs": []
    },
    {
      "cell_type": "markdown",
      "source": [
        "#### 1. Explain the ML Model used and it's performance using Evaluation metric Score Chart."
      ],
      "metadata": {
        "id": "ArJBuiUVfxKd"
      }
    },
    {
      "cell_type": "code",
      "source": [
        "# Visualizing evaluation Metric Score chart"
      ],
      "metadata": {
        "id": "rqD5ZohzfxKe"
      },
      "execution_count": null,
      "outputs": []
    },
    {
      "cell_type": "markdown",
      "source": [
        "#### 2. Cross- Validation & Hyperparameter Tuning"
      ],
      "metadata": {
        "id": "4qY1EAkEfxKe"
      }
    },
    {
      "cell_type": "code",
      "source": [
        "# ML Model - 1 Implementation with hyperparameter optimization techniques (i.e., GridSearch CV, RandomSearch CV, Bayesian Optimization etc.)\n",
        "\n",
        "# Fit the Algorithm\n",
        "\n",
        "# Predict on the model"
      ],
      "metadata": {
        "id": "Dy61ujd6fxKe"
      },
      "execution_count": null,
      "outputs": []
    },
    {
      "cell_type": "markdown",
      "source": [
        "##### Which hyperparameter optimization technique have you used and why?"
      ],
      "metadata": {
        "id": "PiV4Ypx8fxKe"
      }
    },
    {
      "cell_type": "markdown",
      "source": [
        "Answer Here."
      ],
      "metadata": {
        "id": "negyGRa7fxKf"
      }
    },
    {
      "cell_type": "markdown",
      "source": [
        "##### Have you seen any improvement? Note down the improvement with updates Evaluation metric Score Chart."
      ],
      "metadata": {
        "id": "TfvqoZmBfxKf"
      }
    },
    {
      "cell_type": "markdown",
      "source": [
        "Answer Here."
      ],
      "metadata": {
        "id": "OaLui8CcfxKf"
      }
    },
    {
      "cell_type": "markdown",
      "source": [
        "### ML Model - 2"
      ],
      "metadata": {
        "id": "dJ2tPlVmpsJ0"
      }
    },
    {
      "cell_type": "markdown",
      "source": [
        "#### 1. Explain the ML Model used and it's performance using Evaluation metric Score Chart."
      ],
      "metadata": {
        "id": "JWYfwnehpsJ1"
      }
    },
    {
      "cell_type": "code",
      "source": [
        "# Visualizing evaluation Metric Score chart"
      ],
      "metadata": {
        "id": "yEl-hgQWpsJ1"
      },
      "execution_count": null,
      "outputs": []
    },
    {
      "cell_type": "markdown",
      "source": [
        "#### 2. Cross- Validation & Hyperparameter Tuning"
      ],
      "metadata": {
        "id": "-jK_YjpMpsJ2"
      }
    },
    {
      "cell_type": "code",
      "source": [
        "# ML Model - 1 Implementation with hyperparameter optimization techniques (i.e., GridSearch CV, RandomSearch CV, Bayesian Optimization etc.)\n",
        "\n",
        "# Fit the Algorithm\n",
        "\n",
        "# Predict on the model"
      ],
      "metadata": {
        "id": "Dn0EOfS6psJ2"
      },
      "execution_count": null,
      "outputs": []
    },
    {
      "cell_type": "markdown",
      "source": [
        "##### Which hyperparameter optimization technique have you used and why?"
      ],
      "metadata": {
        "id": "HAih1iBOpsJ2"
      }
    },
    {
      "cell_type": "markdown",
      "source": [
        "Answer Here."
      ],
      "metadata": {
        "id": "9kBgjYcdpsJ2"
      }
    },
    {
      "cell_type": "markdown",
      "source": [
        "##### Have you seen any improvement? Note down the improvement with updates Evaluation metric Score Chart."
      ],
      "metadata": {
        "id": "zVGeBEFhpsJ2"
      }
    },
    {
      "cell_type": "markdown",
      "source": [
        "Answer Here."
      ],
      "metadata": {
        "id": "74yRdG6UpsJ3"
      }
    },
    {
      "cell_type": "markdown",
      "source": [
        "#### 3. Explain each evaluation metric's indication towards business and the business impact pf the ML model used."
      ],
      "metadata": {
        "id": "bmKjuQ-FpsJ3"
      }
    },
    {
      "cell_type": "markdown",
      "source": [
        "Answer Here."
      ],
      "metadata": {
        "id": "BDKtOrBQpsJ3"
      }
    },
    {
      "cell_type": "markdown",
      "source": [
        "### ML Model - 3"
      ],
      "metadata": {
        "id": "Fze-IPXLpx6K"
      }
    },
    {
      "cell_type": "code",
      "source": [
        "# ML Model - 3 Implementation\n",
        "\n",
        "# Fit the Algorithm\n",
        "\n",
        "# Predict on the model"
      ],
      "metadata": {
        "id": "FFrSXAtrpx6M"
      },
      "execution_count": null,
      "outputs": []
    },
    {
      "cell_type": "markdown",
      "source": [
        "#### 1. Explain the ML Model used and it's performance using Evaluation metric Score Chart."
      ],
      "metadata": {
        "id": "7AN1z2sKpx6M"
      }
    },
    {
      "cell_type": "code",
      "source": [
        "# Visualizing evaluation Metric Score chart"
      ],
      "metadata": {
        "id": "xIY4lxxGpx6M"
      },
      "execution_count": null,
      "outputs": []
    },
    {
      "cell_type": "markdown",
      "source": [
        "#### 2. Cross- Validation & Hyperparameter Tuning"
      ],
      "metadata": {
        "id": "9PIHJqyupx6M"
      }
    },
    {
      "cell_type": "code",
      "source": [
        "# ML Model - 3 Implementation with hyperparameter optimization techniques (i.e., GridSearch CV, RandomSearch CV, Bayesian Optimization etc.)\n",
        "\n",
        "# Fit the Algorithm\n",
        "\n",
        "# Predict on the model"
      ],
      "metadata": {
        "id": "eSVXuaSKpx6M"
      },
      "execution_count": null,
      "outputs": []
    },
    {
      "cell_type": "markdown",
      "source": [
        "##### Which hyperparameter optimization technique have you used and why?"
      ],
      "metadata": {
        "id": "_-qAgymDpx6N"
      }
    },
    {
      "cell_type": "markdown",
      "source": [
        "Answer Here."
      ],
      "metadata": {
        "id": "lQMffxkwpx6N"
      }
    },
    {
      "cell_type": "markdown",
      "source": [
        "##### Have you seen any improvement? Note down the improvement with updates Evaluation metric Score Chart."
      ],
      "metadata": {
        "id": "Z-hykwinpx6N"
      }
    },
    {
      "cell_type": "markdown",
      "source": [
        "Answer Here."
      ],
      "metadata": {
        "id": "MzVzZC6opx6N"
      }
    },
    {
      "cell_type": "markdown",
      "source": [
        "### 1. Which Evaluation metrics did you consider for a positive business impact and why?"
      ],
      "metadata": {
        "id": "h_CCil-SKHpo"
      }
    },
    {
      "cell_type": "markdown",
      "source": [
        "Answer Here."
      ],
      "metadata": {
        "id": "jHVz9hHDKFms"
      }
    },
    {
      "cell_type": "markdown",
      "source": [
        "### 2. Which ML model did you choose from the above created models as your final prediction model and why?"
      ],
      "metadata": {
        "id": "cBFFvTBNJzUa"
      }
    },
    {
      "cell_type": "markdown",
      "source": [
        "Answer Here."
      ],
      "metadata": {
        "id": "6ksF5Q1LKTVm"
      }
    },
    {
      "cell_type": "markdown",
      "source": [
        "### 3. Explain the model which you have used and the feature importance using any model explainability tool?"
      ],
      "metadata": {
        "id": "HvGl1hHyA_VK"
      }
    },
    {
      "cell_type": "markdown",
      "source": [
        "Answer Here."
      ],
      "metadata": {
        "id": "YnvVTiIxBL-C"
      }
    },
    {
      "cell_type": "markdown",
      "source": [
        "## ***8.*** ***Future Work (Optional)***"
      ],
      "metadata": {
        "id": "EyNgTHvd2WFk"
      }
    },
    {
      "cell_type": "markdown",
      "source": [
        "### 1. Save the best performing ml model in a pickle file or joblib file format for deployment process.\n"
      ],
      "metadata": {
        "id": "KH5McJBi2d8v"
      }
    },
    {
      "cell_type": "code",
      "source": [
        "# Save the File"
      ],
      "metadata": {
        "id": "bQIANRl32f4J"
      },
      "execution_count": null,
      "outputs": []
    },
    {
      "cell_type": "markdown",
      "source": [
        "### 2. Again Load the saved model file and try to predict unseen data for a sanity check.\n"
      ],
      "metadata": {
        "id": "iW_Lq9qf2h6X"
      }
    },
    {
      "cell_type": "code",
      "source": [
        "# Load the File and predict unseen data."
      ],
      "metadata": {
        "id": "oEXk9ydD2nVC"
      },
      "execution_count": null,
      "outputs": []
    },
    {
      "cell_type": "markdown",
      "source": [
        "### ***Congrats! Your model is successfully created and ready for deployment on a live server for a real user interaction !!!***"
      ],
      "metadata": {
        "id": "-Kee-DAl2viO"
      }
    },
    {
      "cell_type": "markdown",
      "source": [
        "# **Conclusion**"
      ],
      "metadata": {
        "id": "gCX9965dhzqZ"
      }
    },
    {
      "cell_type": "markdown",
      "source": [
        "Write the conclusion here."
      ],
      "metadata": {
        "id": "Fjb1IsQkh3yE"
      }
    },
    {
      "cell_type": "markdown",
      "source": [
        "### ***Hurrah! You have successfully completed your Machine Learning Capstone Project !!!***"
      ],
      "metadata": {
        "id": "gIfDvo9L0UH2"
      }
    }
  ]
}